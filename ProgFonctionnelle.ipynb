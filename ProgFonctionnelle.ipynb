{
 "cells": [
  {
   "cell_type": "markdown",
   "id": "unexpected-bonus",
   "metadata": {},
   "source": [
    "# Programmation Fonctionnelle en Python\n",
    "\n",
    "\n",
    "## Concept et principes\n",
    "\n",
    "En programmation impérative, on conceptualise un programme comme une séquence d'affectations qui modifient des variables en mémoire. On utilise des branchements conditionnels et des boucles pour sauter ou répéter des opérations.\n",
    "\n",
    "En programmation fonctionnelle, on conceptualise un programme comme une série de fonctions, qui prennent des données en entrée et retournent de nouvelles données en sortie. Pour obtenir la fonctionnalité désirée, on compose ces fonctions entre elles.\n",
    "\n",
    "**Principes:**\n",
    "* Données immuables: on évite de modifier la valeur des données, on en crée plutôt de nouvelles\n",
    "* Éliminer les _séquences_ d'instructions et privilégier celles dont l'ordre d'exécution est indifférent\n",
    "    * Utiliser des expressions conditionnelles à la place d'instructions conditionnelles\n",
    "    * Pour les calculs en plusieurs étapes, privilégier la composition de fonctions\n",
    "* Élimination des boucles, avec plusieurs techniques pour les remplacer:\n",
    "    * Récursivité plutôt qu'itération\n",
    "    * Usage de map/reduce/filter\n",
    "    * Création de listes et dictionnaires à l'aide d'expressions\n",
    "\n",
    "**Bénéfices:**\n",
    "* Programmes plus faciles à paralléliser\n",
    "* Conception plus \"déclarative\" des programmes (quoi faire plutôt que comment le faire) => programmes plus concis et programmeurs plus productifs\n",
    "* Amélioration de la vérification:\n",
    "    * Meilleures possibilités de raisonner mathématiquement sur un programme\n",
    "    * Il est plus facile de tester des fonctions que des blocs d'instructions quelconques\n",
    "\n",
    "**Techniques clés:**\n",
    "\n",
    "* Expressions conditionnelles\n",
    "* Récursivité et récursivité terminale\n",
    "    * En particulier, manipulation de listes par des fonctions récursives\n",
    "* Fonctions de première classe: \n",
    "    * manipulation directe de fonctions à l'aide de variables et d'expressions fonctionnelles\n",
    "    * fonctions passées en entrée/sortie d'autres fonctions\n",
    " "
   ]
  },
  {
   "cell_type": "markdown",
   "id": "present-chinese",
   "metadata": {},
   "source": [
    "## Expressions conditionnelles\n",
    "\n",
    "Du fait qu'on évite les séquences d'instructions, on va aussi éviter les branchements conditionnels, qui servent simplement à sauter des instructions dans une séquence. Ainsi le bloc:\n",
    "```\n",
    "instruction1\n",
    "if (cond)\n",
    "    instruction2\n",
    "else \n",
    "    instruction3 \n",
    "instruction4\n",
    "```\n",
    "est une séquence, où on exécutera 3 sur les quatre instructions: on en sautera une.\n",
    "\n",
    "En général on peut remplacer une séquence conditionnelle d'instructions par une expression conditionnelle, dont la valeur dépend d'une condition.\n",
    "\n",
    "En Python, une expression conditionnelle s'écrit de la manière suivante: ```a if c else b```, et l'expression vaut ```a``` si la condition ```c``` est vraie, sinon elle vaut ```b```.\n",
    "\n",
    "#### Exemple\n",
    "Pour calculer la valeur absolue d'un nombre, on peut écrire la séquence suivante:"
   ]
  },
  {
   "cell_type": "code",
   "execution_count": 12,
   "id": "likely-sydney",
   "metadata": {},
   "outputs": [
    {
     "name": "stdout",
     "output_type": "stream",
     "text": [
      "3\n"
     ]
    }
   ],
   "source": [
    "x = -3\n",
    "if(x>0):\n",
    "    valeur_absolue = x\n",
    "else: \n",
    "    valeur_absolue = -x\n",
    "print(valeur_absolue)"
   ]
  },
  {
   "cell_type": "markdown",
   "id": "based-reporter",
   "metadata": {},
   "source": [
    "Avec une expression conditionnelle on écrirait:"
   ]
  },
  {
   "cell_type": "code",
   "execution_count": 13,
   "id": "guided-bibliography",
   "metadata": {
    "scrolled": true
   },
   "outputs": [
    {
     "name": "stdout",
     "output_type": "stream",
     "text": [
      "3\n"
     ]
    }
   ],
   "source": [
    "x= -3\n",
    "valeur_absolue = x if (x>0) else -x\n",
    "print(valeur_absolue)"
   ]
  },
  {
   "cell_type": "markdown",
   "id": "mathematical-click",
   "metadata": {},
   "source": [
    "#### Exercice\n",
    "On a deux nombres quelconques ```a``` et ```b```.\n",
    "Écrire une expression conditionnelle dont la valeur est _la plus grande deux valeurs ```a``` et ```b```_"
   ]
  },
  {
   "cell_type": "code",
   "execution_count": null,
   "id": "enhanced-excellence",
   "metadata": {},
   "outputs": [],
   "source": [
    "a = 3\n",
    "b = 7\n",
    "plusGrand = ..."
   ]
  },
  {
   "cell_type": "markdown",
   "id": "unlike-cemetery",
   "metadata": {},
   "source": []
  }
 ],
 "metadata": {
  "kernelspec": {
   "display_name": "Python 3",
   "language": "python",
   "name": "python3"
  },
  "language_info": {
   "codemirror_mode": {
    "name": "ipython",
    "version": 3
   },
   "file_extension": ".py",
   "mimetype": "text/x-python",
   "name": "python",
   "nbconvert_exporter": "python",
   "pygments_lexer": "ipython3",
   "version": "3.9.1"
  }
 },
 "nbformat": 4,
 "nbformat_minor": 5
}
