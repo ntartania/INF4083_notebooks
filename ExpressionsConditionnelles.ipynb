{
 "cells": [
  {
   "cell_type": "markdown",
   "id": "present-chinese",
   "metadata": {},
   "source": [
    "# Expressions conditionnelles\n",
    "\n",
    "En programmation fonctionnelle, du fait qu'on évite les séquences d'instructions, on va aussi éviter les branchements conditionnels, qui servent simplement à sauter des instructions dans une séquence. Ainsi le bloc:\n",
    "```\n",
    "instruction1\n",
    "if (cond)\n",
    "    instruction2\n",
    "else \n",
    "    instruction3 \n",
    "instruction4\n",
    "```\n",
    "est une séquence, où on exécutera 3 sur les quatre instructions: on en sautera une.\n",
    "\n",
    "En général on peut remplacer une séquence conditionnelle d'instructions par une expression conditionnelle, dont la valeur dépend d'une condition.\n",
    "\n",
    "En Python, une expression conditionnelle s'écrit de la manière suivante: ```a if c else b```, et l'expression vaut ```a``` si la condition ```c``` est vraie, sinon elle vaut ```b```.\n",
    "\n",
    "#### Exemple\n",
    "Pour calculer la valeur absolue d'un nombre, on peut écrire la séquence suivante:"
   ]
  },
  {
   "cell_type": "code",
   "execution_count": 1,
   "id": "likely-sydney",
   "metadata": {},
   "outputs": [
    {
     "name": "stdout",
     "output_type": "stream",
     "text": [
      "3\n"
     ]
    }
   ],
   "source": [
    "x = -3\n",
    "if(x>0):\n",
    "    valeur_absolue = x\n",
    "else: \n",
    "    valeur_absolue = -x\n",
    "print(valeur_absolue)"
   ]
  },
  {
   "cell_type": "markdown",
   "id": "based-reporter",
   "metadata": {},
   "source": [
    "Avec une expression conditionnelle on écrirait:"
   ]
  },
  {
   "cell_type": "code",
   "execution_count": 2,
   "id": "guided-bibliography",
   "metadata": {
    "scrolled": true
   },
   "outputs": [
    {
     "name": "stdout",
     "output_type": "stream",
     "text": [
      "3\n"
     ]
    }
   ],
   "source": [
    "x= -3\n",
    "valeur_absolue = x if (x>0) else -x\n",
    "print(valeur_absolue)"
   ]
  },
  {
   "cell_type": "markdown",
   "id": "mathematical-click",
   "metadata": {},
   "source": [
    "#### Exercice 1\n",
    "On a deux nombres quelconques ```a``` et ```b```.\n",
    "Écrire une expression conditionnelle dont la valeur est _la plus grande deux valeurs ```a``` et ```b```_"
   ]
  },
  {
   "cell_type": "code",
   "execution_count": null,
   "id": "enhanced-excellence",
   "metadata": {},
   "outputs": [],
   "source": [
    "a = 3\n",
    "b = 7\n",
    "plusGrand = ..."
   ]
  },
  {
   "cell_type": "markdown",
   "id": "velvet-massachusetts",
   "metadata": {},
   "source": [
    "## Expressions \"truthy\" / \"falsy\"\n",
    "\n",
    "Une particularité des conditionnelles en Python est qu'on peut utiliser des ```if``` et des connecteurs logiques avec des expressions qui ne sont pas de type booléen.\n",
    "\n",
    "L'idée est de considérer certaines valeurs, comme la valeur 0, une liste vide, un string vide, etc. comme équivalentes à \"faux\", et les autres valeurs comme un équivalent de \"vrai\". Dans la documentation anglophone de Python, pour décrire cette \"équivalence\" on utilise les termes \"truthy\" et \"falsy\". \n",
    "\n",
    "Plus formellement, la distinction est qu'on peut convertir une expression quelconque en booléen avec le constructeur ```bool()```: les valeurs qui donnent ```True``` sont \"truthy\", et celles qui donnent ```False``` sont \"falsy\". "
   ]
  },
  {
   "cell_type": "code",
   "execution_count": 3,
   "id": "atmospheric-edmonton",
   "metadata": {},
   "outputs": [],
   "source": [
    "x=0 \n",
    "y=5 \n",
    "z = [] \n",
    "t = [4]"
   ]
  },
  {
   "cell_type": "code",
   "execution_count": 4,
   "id": "alternate-ghost",
   "metadata": {},
   "outputs": [
    {
     "data": {
      "text/plain": [
       "False"
      ]
     },
     "execution_count": 4,
     "metadata": {},
     "output_type": "execute_result"
    }
   ],
   "source": [
    "bool(x)"
   ]
  },
  {
   "cell_type": "markdown",
   "id": "otherwise-proceeding",
   "metadata": {},
   "source": [
    "=> 0 est \"falsy\""
   ]
  },
  {
   "cell_type": "code",
   "execution_count": 5,
   "id": "geological-problem",
   "metadata": {},
   "outputs": [
    {
     "data": {
      "text/plain": [
       "True"
      ]
     },
     "execution_count": 5,
     "metadata": {},
     "output_type": "execute_result"
    }
   ],
   "source": [
    "bool(y) "
   ]
  },
  {
   "cell_type": "markdown",
   "id": "chinese-referral",
   "metadata": {},
   "source": [
    "=> toute valeur numérique non nulle est \"truthy\""
   ]
  },
  {
   "cell_type": "code",
   "execution_count": 6,
   "id": "adverse-indication",
   "metadata": {},
   "outputs": [
    {
     "data": {
      "text/plain": [
       "False"
      ]
     },
     "execution_count": 6,
     "metadata": {},
     "output_type": "execute_result"
    }
   ],
   "source": [
    "bool(z) "
   ]
  },
  {
   "cell_type": "markdown",
   "id": "statutory-today",
   "metadata": {},
   "source": [
    "=> la liste vide est \"falsy\""
   ]
  },
  {
   "cell_type": "code",
   "execution_count": 7,
   "id": "mexican-works",
   "metadata": {},
   "outputs": [
    {
     "data": {
      "text/plain": [
       "True"
      ]
     },
     "execution_count": 7,
     "metadata": {},
     "output_type": "execute_result"
    }
   ],
   "source": [
    "bool(t) "
   ]
  },
  {
   "cell_type": "markdown",
   "id": "visible-worcester",
   "metadata": {},
   "source": [
    "=> une liste non vide est \"truthy\""
   ]
  },
  {
   "cell_type": "markdown",
   "id": "alpha-baseball",
   "metadata": {},
   "source": [
    "### Conditions truthy et falsy\n",
    "\n",
    "La principale utilisation de cette sémantique booléenne est d'écrire des conditions avec ```if```:"
   ]
  },
  {
   "cell_type": "code",
   "execution_count": 8,
   "id": "billion-floating",
   "metadata": {},
   "outputs": [
    {
     "name": "stdout",
     "output_type": "stream",
     "text": [
      "5\n"
     ]
    }
   ],
   "source": [
    "if(y):\n",
    "    print (y)"
   ]
  },
  {
   "cell_type": "markdown",
   "id": "convenient-planet",
   "metadata": {},
   "source": [
    "```y``` étant \"truthy\", la condition évalue à ```True``` et le ```print``` est exécuté.\n",
    "\n",
    "À l'intérieur d'une condition ```if```,  on peut aussi utiliser les connecteurs logiques ```and```, ```or```, et ```not``` avec des valeurs truthy et falsy. Le fonctionnement est comme on pourrait l'attendre: on convertit toutes les valeurs en booléens, puis on combine les valeurs booléennes avec les connecteurs: "
   ]
  },
  {
   "cell_type": "code",
   "execution_count": 9,
   "id": "novel-advisory",
   "metadata": {},
   "outputs": [
    {
     "name": "stdout",
     "output_type": "stream",
     "text": [
      "x and y => falsy\n"
     ]
    }
   ],
   "source": [
    "if (x and y):\n",
    "    print (\"x and y => truthy\")\n",
    "else:\n",
    "    print (\"x and y => falsy\")"
   ]
  },
  {
   "cell_type": "code",
   "execution_count": 10,
   "id": "worthy-grenada",
   "metadata": {},
   "outputs": [
    {
     "name": "stdout",
     "output_type": "stream",
     "text": [
      "x or y => truthy\n"
     ]
    }
   ],
   "source": [
    "if (x or y):\n",
    "    print (\"x or y => truthy\")\n",
    "else:\n",
    "    print (\"x or y => falsy\")"
   ]
  },
  {
   "cell_type": "markdown",
   "id": "unexpected-tuning",
   "metadata": {},
   "source": [
    "### Expressions conditionnelles avec des valeurs truthy et falsy\n",
    "\n",
    "Une autre technique permise par ce concept de \"truthy et falsy\" est l'utilisation d'expressions booléennes:"
   ]
  },
  {
   "cell_type": "code",
   "execution_count": 11,
   "id": "ecological-merchant",
   "metadata": {},
   "outputs": [],
   "source": [
    "a = x or y"
   ]
  },
  {
   "cell_type": "markdown",
   "id": "recent-federal",
   "metadata": {},
   "source": [
    "Si on voulait évaluer une condition de la forme ```if (a): ...``` alors on pourrait anticiper que ```a``` est ```truthy``` (selon le résultat précédent et conformément à la sémantique de ```or```), mais si on essaye d'obtenir la valeur de ```a```, qu'en est-il? ```a``` est-il simplement ```True```, ou est-ce une autre valeur qui se trouve être \"truthy\"? \n",
    "\n",
    "Testons:"
   ]
  },
  {
   "cell_type": "code",
   "execution_count": 12,
   "id": "economic-finnish",
   "metadata": {},
   "outputs": [
    {
     "name": "stdout",
     "output_type": "stream",
     "text": [
      "5\n"
     ]
    }
   ],
   "source": [
    "print(a)"
   ]
  },
  {
   "cell_type": "markdown",
   "id": "peripheral-offset",
   "metadata": {},
   "source": [
    "La valeur affichée est celle de ```y```. Pourquoi? Intuitivement, ```x``` étant \"falsy\" et ```y``` étant \"truthy\", ```x or y``` est truthy _à cause de_ ```y```, et donc on donne à ```a``` la valeur de ```y```.\n",
    "\n",
    "Ceci est un choix logique des concepteurs du langage Python et peut se comprendre en considérant le concept d'évaluation en \"court-circuit\" des expressions booléennes.\n",
    "\n",
    "Considérons une expression booléenne quelconque, sans concept de valeurs \"truthy\" et \"falsy\":"
   ]
  },
  {
   "cell_type": "code",
   "execution_count": 13,
   "id": "usual-fashion",
   "metadata": {},
   "outputs": [
    {
     "name": "stdout",
     "output_type": "stream",
     "text": [
      "x n'est pas positif\n"
     ]
    }
   ],
   "source": [
    "if (x>0 and y/x>0):\n",
    "    print(\"x positif et y/x est positif\")\n",
    "else:\n",
    "    print(\"x n'est pas positif\")"
   ]
  },
  {
   "cell_type": "markdown",
   "id": "surprised-grant",
   "metadata": {},
   "source": [
    "Regardons de plus près l'expression booléenne: ```x>0``` est faux, donc il est clair que la condition sera fausse. Mais que se passe-t-il si on évalue ```y/x>0```?"
   ]
  },
  {
   "cell_type": "code",
   "execution_count": 14,
   "id": "chubby-remark",
   "metadata": {},
   "outputs": [
    {
     "ename": "ZeroDivisionError",
     "evalue": "division by zero",
     "output_type": "error",
     "traceback": [
      "\u001b[0;31m---------------------------------------------------------------------------\u001b[0m",
      "\u001b[0;31mZeroDivisionError\u001b[0m                         Traceback (most recent call last)",
      "\u001b[0;32m<ipython-input-14-c811ab55a4f8>\u001b[0m in \u001b[0;36m<module>\u001b[0;34m\u001b[0m\n\u001b[0;32m----> 1\u001b[0;31m \u001b[0my\u001b[0m\u001b[0;34m/\u001b[0m\u001b[0mx\u001b[0m\u001b[0;34m>\u001b[0m\u001b[0;36m0\u001b[0m\u001b[0;34m\u001b[0m\u001b[0;34m\u001b[0m\u001b[0m\n\u001b[0m",
      "\u001b[0;31mZeroDivisionError\u001b[0m: division by zero"
     ]
    }
   ],
   "source": [
    "y/x>0"
   ]
  },
  {
   "cell_type": "markdown",
   "id": "celtic-understanding",
   "metadata": {},
   "source": [
    "Erreur: division par zéro! En effet, ```x``` valait 0. Ceci illustre le concept de \"court-circuit\": après avoir évalué ```x>0``` et en voyant qu'on est en présence d'une conjonction (```and```), on connait le résultat et on peut terminer (\"court-circuiter\") l'évaluation sans évaluer la partie droite.\n",
    "\n",
    "De la même façon, dans une disjonction (opération ```or```), dès qu'on rencontre un élément ```True``` on connait le résultat final et on peut interrompre le calcul:"
   ]
  },
  {
   "cell_type": "code",
   "execution_count": 15,
   "id": "thirty-valve",
   "metadata": {},
   "outputs": [
    {
     "name": "stdout",
     "output_type": "stream",
     "text": [
      "succes! sans évaluer y/x...\n"
     ]
    }
   ],
   "source": [
    "if (y>0 or y/x==0):\n",
    "    print(\"succes! sans évaluer y/x...\")"
   ]
  },
  {
   "cell_type": "markdown",
   "id": "intelligent-amateur",
   "metadata": {},
   "source": [
    "Revenons aux expressions booléennes avec des valeurs \"truthy\" et \"falsy\". Python évalue ces expressions aussi en \"court-circuit\", et retourne la dernière valeur évaluée:"
   ]
  },
  {
   "cell_type": "code",
   "execution_count": 16,
   "id": "sunrise-brazil",
   "metadata": {},
   "outputs": [
    {
     "data": {
      "text/plain": [
       "5"
      ]
     },
     "execution_count": 16,
     "metadata": {},
     "output_type": "execute_result"
    }
   ],
   "source": [
    "y or x"
   ]
  },
  {
   "cell_type": "markdown",
   "id": "removable-bottle",
   "metadata": {},
   "source": [
    "Ici on a évalué ```y```, puis on est sorti en \"court-circuit\", la valeur de l'expression est donc celle de ```y```."
   ]
  },
  {
   "cell_type": "code",
   "execution_count": 17,
   "id": "brave-gallery",
   "metadata": {},
   "outputs": [
    {
     "data": {
      "text/plain": [
       "[4]"
      ]
     },
     "execution_count": 17,
     "metadata": {},
     "output_type": "execute_result"
    }
   ],
   "source": [
    "z or t"
   ]
  },
  {
   "cell_type": "markdown",
   "id": "loose-tanzania",
   "metadata": {},
   "source": [
    "Ici, ```z``` est \"falsy\" et on a donc du évaluer ```t```:  la valeur affichée est donc celle de ```t```."
   ]
  },
  {
   "cell_type": "code",
   "execution_count": 18,
   "id": "offshore-escape",
   "metadata": {},
   "outputs": [
    {
     "data": {
      "text/plain": [
       "[]"
      ]
     },
     "execution_count": 18,
     "metadata": {},
     "output_type": "execute_result"
    }
   ],
   "source": [
    "z and t"
   ]
  },
  {
   "cell_type": "markdown",
   "id": "solid-diabetes",
   "metadata": {},
   "source": [
    "Ici, on évalue ```z``` comme \"falsy\", et comme il s'agit d'un ```and```, on peut court-circuiter car on sait que l'expression sera \"falsy\". Mais la valeur affichée est celle de ```z```, pas ```False```.\n",
    "\n"
   ]
  },
  {
   "cell_type": "markdown",
   "id": "improved-least",
   "metadata": {},
   "source": [
    "On peut exploiter ce mécanisme pour écrire des expressions (à peu près) équivalentes à la structure ```a if c else b```:"
   ]
  },
  {
   "cell_type": "code",
   "execution_count": 19,
   "id": "suffering-numbers",
   "metadata": {},
   "outputs": [
    {
     "data": {
      "text/plain": [
       "'y est positif'"
      ]
     },
     "execution_count": 19,
     "metadata": {},
     "output_type": "execute_result"
    }
   ],
   "source": [
    "\"y est \" + ((y>0 and \"positif\") or \"negatif\")"
   ]
  },
  {
   "cell_type": "markdown",
   "id": "metric-giant",
   "metadata": {},
   "source": [
    "Ici ```y>0``` a été évalué comme ```True```, et à cause du ```and``` il a fallu évaluer la partie droite (```\"positif\"```: ce string non vide est \"truthy\"). L'expression ```y>0 and \"positif\"``` est donc \"truthy\" et sa valeur est la dernière valeur évaluée, soit le string ```\"positif\"```. On 'value ensuite le ```or```: avec un résultat \"truthy\" pour la partie gauche, on peut court-circuiter la partie droite. La valeur obtenue pour l'expression au complet est donc la partie gauche du ```or```, soit le string ```\"positif\"```."
   ]
  },
  {
   "cell_type": "markdown",
   "id": "removed-genius",
   "metadata": {},
   "source": [
    "#### Exercice 2\n",
    "\n",
    "Donner la valeur de l'expression suivante:"
   ]
  },
  {
   "cell_type": "code",
   "execution_count": null,
   "id": "saved-conducting",
   "metadata": {},
   "outputs": [],
   "source": [
    "(x or z) and (t or y)"
   ]
  },
  {
   "cell_type": "markdown",
   "id": "bibliographic-alberta",
   "metadata": {},
   "source": [
    "#### Exercice 3\n",
    "\n",
    "On a une liste ```z```. Écrire une expression conditionnelle utilisant ```or```, qui donne la longueur de ```z``` si la liste ```z``` n'est pas vide, sinon la valeur -1."
   ]
  },
  {
   "cell_type": "code",
   "execution_count": null,
   "id": "expanded-richards",
   "metadata": {},
   "outputs": [],
   "source": []
  },
  {
   "cell_type": "markdown",
   "id": "activated-savings",
   "metadata": {},
   "source": [
    "### Limitations\n",
    "\n",
    "Une limitation de cette technique est que le calcul d'une conjonction s'arrête toujours sur une valeur \"falsy\", et que le calcul d'une disjonction s'arrête toujours sur une conjonction.\n",
    "\n",
    "Supposons qu'on veuille par exemple une expression qui soit la liste vide si ```y``` est positif, sinon une liste contenant ```y```. Avec une expression ```a if c else b``` on écrirait: "
   ]
  },
  {
   "cell_type": "code",
   "execution_count": 22,
   "id": "charitable-arcade",
   "metadata": {},
   "outputs": [
    {
     "data": {
      "text/plain": [
       "[]"
      ]
     },
     "execution_count": 22,
     "metadata": {},
     "output_type": "execute_result"
    }
   ],
   "source": [
    "[] if y>0 else [y]"
   ]
  },
  {
   "cell_type": "markdown",
   "id": "foster-burlington",
   "metadata": {},
   "source": [
    "Avec une expression de la forme ```c and a or b```, on a le problème que a est \"falsy\":"
   ]
  },
  {
   "cell_type": "code",
   "execution_count": 23,
   "id": "spatial-client",
   "metadata": {},
   "outputs": [
    {
     "data": {
      "text/plain": [
       "[5]"
      ]
     },
     "execution_count": 23,
     "metadata": {},
     "output_type": "execute_result"
    }
   ],
   "source": [
    "y>0 and [] or [y]"
   ]
  },
  {
   "cell_type": "markdown",
   "id": "romantic-closing",
   "metadata": {},
   "source": [
    "Pour résoudre le problème il nous faut utiliser la condition inverse, et retourner ```[y]``` si ```y``` est négatif ou nul, sinon ```[]```, qui sera retournée même si la valeur est falsy, puisque c'est la dernière valeur \"calculée\":"
   ]
  },
  {
   "cell_type": "code",
   "execution_count": 24,
   "id": "imposed-setup",
   "metadata": {},
   "outputs": [
    {
     "data": {
      "text/plain": [
       "[]"
      ]
     },
     "execution_count": 24,
     "metadata": {},
     "output_type": "execute_result"
    }
   ],
   "source": [
    "y<=0 and [y] or []"
   ]
  },
  {
   "cell_type": "markdown",
   "id": "invisible-conditioning",
   "metadata": {},
   "source": [
    "En conclusion, il est recommandé d'utiliser la forme ```a if b else c```. L'utilisation des expressions conditionnelles avec des valeurs \"truthy\" et \"falsy\" est cependant fréquente en Python, et il est important de savoir les interpréter."
   ]
  },
  {
   "cell_type": "markdown",
   "id": "caroline-finance",
   "metadata": {},
   "source": [
    "## Autres langages \n",
    "Le concept d'une expression conditionnelle n'est pas unique à la programmation fonctionnelle, ni au langage Python. De telles expressions conditionnelles existent dans d'autres langages:\n",
    "\n",
    "* Python : ```x = a if c else b```.\n",
    "* En Java et C/C++, on écrit: ```x = (c? a: b);```\n",
    "* En Lisp / Scheme / Racket on écrit: ```(if c, a, b)```\n"
   ]
  }
 ],
 "metadata": {
  "kernelspec": {
   "display_name": "Python 3",
   "language": "python",
   "name": "python3"
  },
  "language_info": {
   "codemirror_mode": {
    "name": "ipython",
    "version": 3
   },
   "file_extension": ".py",
   "mimetype": "text/x-python",
   "name": "python",
   "nbconvert_exporter": "python",
   "pygments_lexer": "ipython3",
   "version": "3.9.1"
  }
 },
 "nbformat": 4,
 "nbformat_minor": 5
}
