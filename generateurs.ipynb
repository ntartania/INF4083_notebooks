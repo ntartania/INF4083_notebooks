{
 "cells": [
  {
   "cell_type": "markdown",
   "id": "timely-discount",
   "metadata": {},
   "source": [
    "# Générateurs\n",
    "\n",
    "Le concept de _générateur_ Python est associé à l'idée d'une exécution \"paresseuse\" du code. L'idée principale d'un générateur est de générer le contenu d'une liste _à la demande_, plutôt qu'en une seule fois. On peut illustrer l'aspect \"paresseux\" avec un exemple utilisant ```range```:"
   ]
  },
  {
   "cell_type": "code",
   "execution_count": 1,
   "id": "fitting-noise",
   "metadata": {},
   "outputs": [],
   "source": [
    "def premier_element(liste):\n",
    "    return liste[0]"
   ]
  },
  {
   "cell_type": "code",
   "execution_count": 2,
   "id": "comparative-murray",
   "metadata": {},
   "outputs": [
    {
     "data": {
      "text/plain": [
       "range(0, 5000)"
      ]
     },
     "execution_count": 2,
     "metadata": {},
     "output_type": "execute_result"
    }
   ],
   "source": [
    "range(5000)"
   ]
  },
  {
   "cell_type": "markdown",
   "id": "aware-following",
   "metadata": {},
   "source": [
    "Conceptuellement, ```range(5000)``` représente la liste [0, 1, 2... 4999], mais techniquement on a ici un object ```range``` qui ne contient pas la liste complète, seulement les paramètres nécessaires pour la générer. "
   ]
  },
  {
   "cell_type": "code",
   "execution_count": 3,
   "id": "sacred-oriental",
   "metadata": {},
   "outputs": [
    {
     "data": {
      "text/plain": [
       "0"
      ]
     },
     "execution_count": 3,
     "metadata": {},
     "output_type": "execute_result"
    }
   ],
   "source": [
    "premier_element(range(5000))"
   ]
  },
  {
   "cell_type": "markdown",
   "id": "several-saturday",
   "metadata": {},
   "source": [
    "Le résultat est identique à celui qu'on aurait obtenu en générant la liste complète [0,...4999] _avant_ d'en prendre le premier élément, mais l'opération effectuée ici a été d'appliquer l'opération ```[0]``` (premier élément) à un générateur, soit initialiser la séquence, générer le premier élément, et s'arrêter.\n",
    "\n",
    "On a donc évité un gros travail inutile: on utilise le terme \"paresseux\", mais on a en réalité un gain d'efficacité et une économie de la mémoire, notamment parce que la séquence complète n'est jamais matérialisée en mémoire (à moins de le demander explicitement, comme par exemple en créant la liste:"
   ]
  },
  {
   "cell_type": "code",
   "execution_count": 4,
   "id": "interesting-atlanta",
   "metadata": {},
   "outputs": [
    {
     "data": {
      "text/plain": [
       "[0, 1, 2, 3, 4, 5, 6, 7, 8, 9, 10, 11, 12, 13, 14, 15, 16, 17, 18, 19]"
      ]
     },
     "execution_count": 4,
     "metadata": {},
     "output_type": "execute_result"
    }
   ],
   "source": [
    "list(range(20))"
   ]
  },
  {
   "cell_type": "markdown",
   "id": "addressed-transport",
   "metadata": {},
   "source": [
    "## Lien avec l'évaluation paresseuse en lambda calcul\n",
    "L'expression ```premier_element(range(5))``` est de la forme ```f(g(x))```, une expression qui se traduirait en lambda calcul par un terme avec deux redex: une application dont le sous-terme de droite serait une autre application, et ces deux applications formant chacune un redex. Le terme pourrait être réduit par une séquence de deux beta-réductions, en commençant par l'un ou l'autre des redex. \n",
    "\n",
    "La stratégie _applicative_ consisterait à réduire d'abord l'application ```g(x)```, puis à réduire dans une deuxième étape l'application de ```f``` au résultat. La stratégie d'évaluation _paresseuse_ consisterait elle à réduire directement l'application extérieure ```f(...)```, c'est-à-dire écrire le corps de la fonction ```f``` en substituant le paramètre par ```g(x)```, et dans la deuxième étape effectuer la réduction correspondant à l'application ```g(x)```. \n",
    "\n",
    "Ici, comme dans une stratégie paresseuse du lambda calcul, on substitue l'objet ```range``` dans le corps de la fonction ```premier_element```, et on se retrouve avec l'expression ```range(5000)[0]```, qui peut être gérée plus efficacement, car on sait qu'on a seulement besoin de déterminer le premier élément de la liste. "
   ]
  },
  {
   "cell_type": "markdown",
   "id": "choice-walker",
   "metadata": {},
   "source": [
    "## Générateurs de la bibliothèque Python\n",
    "\n",
    "La fonction ```range``` est sans doute le générateur le plus utilisé en Python (même si un ```range``` n'est pas en fait une instance de la classe ```generator```, leur comportements sont similaires). Plusieurs autres fonctions de la bibliothèque standard Python qui produisent des listes en sortie sont aussi des générateurs, notamment ```zip```, ```map```, et ```filter```."
   ]
  },
  {
   "cell_type": "code",
   "execution_count": 5,
   "id": "brazilian-patrol",
   "metadata": {},
   "outputs": [
    {
     "data": {
      "text/plain": [
       "<zip at 0x10ba9b140>"
      ]
     },
     "execution_count": 5,
     "metadata": {},
     "output_type": "execute_result"
    }
   ],
   "source": [
    "zip([3, 4, 5], [\"a\", \"b\", \"c\"])"
   ]
  },
  {
   "cell_type": "markdown",
   "id": "stable-flush",
   "metadata": {},
   "source": [
    "Comme c'était le cas avec ```range```, les éléments de la liste n'ont pas encore été calculés: ils le seront à la demande, comme par exemple en exécutant une boucle ```for```:"
   ]
  },
  {
   "cell_type": "code",
   "execution_count": 6,
   "id": "dutch-primary",
   "metadata": {},
   "outputs": [
    {
     "name": "stdout",
     "output_type": "stream",
     "text": [
      "(3, 'a')\n",
      "(4, 'b')\n",
      "(5, 'c')\n"
     ]
    }
   ],
   "source": [
    "listez = zip([3, 4, 5], [\"a\", \"b\", \"c\"])\n",
    "for z in listez:\n",
    "    print(z)"
   ]
  },
  {
   "cell_type": "markdown",
   "id": "incomplete-legislation",
   "metadata": {},
   "source": [
    "Les compréhensions de liste peuvent être écrites sous forme de générateurs: il suffit de remplacer les crochets par des parenthèses:"
   ]
  },
  {
   "cell_type": "code",
   "execution_count": 7,
   "id": "guided-shelf",
   "metadata": {},
   "outputs": [
    {
     "data": {
      "text/plain": [
       "[9, 25, 64]"
      ]
     },
     "execution_count": 7,
     "metadata": {},
     "output_type": "execute_result"
    }
   ],
   "source": [
    "[a*a for a in [3, 5, 8]]"
   ]
  },
  {
   "cell_type": "code",
   "execution_count": 8,
   "id": "amateur-beverage",
   "metadata": {},
   "outputs": [
    {
     "data": {
      "text/plain": [
       "<generator object <genexpr> at 0x10ba38e40>"
      ]
     },
     "execution_count": 8,
     "metadata": {},
     "output_type": "execute_result"
    }
   ],
   "source": [
    "(a*a for a in [3, 5, 8])"
   ]
  },
  {
   "cell_type": "markdown",
   "id": "passive-depression",
   "metadata": {},
   "source": [
    "Comme pour les autres générateurs, on peut obtenir le contenu de la liste à la demande:"
   ]
  },
  {
   "cell_type": "code",
   "execution_count": 9,
   "id": "monthly-warner",
   "metadata": {},
   "outputs": [],
   "source": [
    "g = (a*a for a in [3, 5, 8])"
   ]
  },
  {
   "cell_type": "code",
   "execution_count": 10,
   "id": "civilian-insulin",
   "metadata": {},
   "outputs": [
    {
     "data": {
      "text/plain": [
       "[9, 25, 64]"
      ]
     },
     "execution_count": 10,
     "metadata": {},
     "output_type": "execute_result"
    }
   ],
   "source": [
    "list(g)"
   ]
  },
  {
   "cell_type": "markdown",
   "id": "natural-ministry",
   "metadata": {},
   "source": [
    "## Utilisation de générateurs\n",
    "\n",
    "Comme on l'a montré ci-dessus, on peut énumérer les éléments générés à l'aide d'une boucle ```for```: ceci s'applique à ```range``` comme aux autres fonctions mentionnées, et aux compréhensions de listes. "
   ]
  },
  {
   "cell_type": "code",
   "execution_count": 11,
   "id": "colored-watson",
   "metadata": {},
   "outputs": [],
   "source": [
    "g = (a*a for a in [3, 5, 8])"
   ]
  },
  {
   "cell_type": "code",
   "execution_count": 12,
   "id": "rural-figure",
   "metadata": {},
   "outputs": [
    {
     "name": "stdout",
     "output_type": "stream",
     "text": [
      "9\n",
      "25\n",
      "64\n",
      "3 élements\n"
     ]
    }
   ],
   "source": [
    "n =0\n",
    "for i in g:\n",
    "    n = n+1\n",
    "    print(i)\n",
    "print(n, \"élements\")"
   ]
  },
  {
   "cell_type": "markdown",
   "id": "statutory-hawaiian",
   "metadata": {},
   "source": [
    "Cependant, pour tous les générateurs autres que ```range```, les éléments sont générés puis \"oubliés\", et par conséquent on ne peut énumérer les éléments qu'une seule fois. Ceci peut être un problème dans un algorithme qui requiert de parcourir une liste plusieurs fois (tri...). "
   ]
  },
  {
   "cell_type": "code",
   "execution_count": 13,
   "id": "acquired-antarctica",
   "metadata": {},
   "outputs": [
    {
     "name": "stdout",
     "output_type": "stream",
     "text": [
      "0 élements\n"
     ]
    }
   ],
   "source": [
    "n =0\n",
    "for i in g:\n",
    "    n = n+1\n",
    "    print(i)\n",
    "print(n, \"élements\")"
   ]
  },
  {
   "cell_type": "markdown",
   "id": "limited-underground",
   "metadata": {},
   "source": [
    "Pour bien comprendre ce qu'il se passe, il faut savoir que l'énumération des valeurs, que ce soit dans une boucle ```for``` ou pour construire une liste, utilise en arrière-plan une fonction ```next()```, qui permet de calculer la prochaine valeur:"
   ]
  },
  {
   "cell_type": "code",
   "execution_count": 14,
   "id": "finnish-carbon",
   "metadata": {},
   "outputs": [],
   "source": [
    "h = (a for a in [57, 81])"
   ]
  },
  {
   "cell_type": "code",
   "execution_count": 15,
   "id": "indian-jewel",
   "metadata": {},
   "outputs": [
    {
     "data": {
      "text/plain": [
       "57"
      ]
     },
     "execution_count": 15,
     "metadata": {},
     "output_type": "execute_result"
    }
   ],
   "source": [
    "next(h)"
   ]
  },
  {
   "cell_type": "code",
   "execution_count": 16,
   "id": "coupled-voltage",
   "metadata": {},
   "outputs": [
    {
     "data": {
      "text/plain": [
       "81"
      ]
     },
     "execution_count": 16,
     "metadata": {},
     "output_type": "execute_result"
    }
   ],
   "source": [
    "next(h)"
   ]
  },
  {
   "cell_type": "markdown",
   "id": "heated-latitude",
   "metadata": {},
   "source": [
    "Et le processus d'énumération se termine avec un événement (une sorte d'exception) ```StopIteration```:"
   ]
  },
  {
   "cell_type": "code",
   "execution_count": 17,
   "id": "labeled-toronto",
   "metadata": {},
   "outputs": [
    {
     "ename": "StopIteration",
     "evalue": "",
     "output_type": "error",
     "traceback": [
      "\u001b[0;31m---------------------------------------------------------------------------\u001b[0m",
      "\u001b[0;31mStopIteration\u001b[0m                             Traceback (most recent call last)",
      "\u001b[0;32m<ipython-input-17-31146b9ab14d>\u001b[0m in \u001b[0;36m<module>\u001b[0;34m\u001b[0m\n\u001b[0;32m----> 1\u001b[0;31m \u001b[0mnext\u001b[0m\u001b[0;34m(\u001b[0m\u001b[0mh\u001b[0m\u001b[0;34m)\u001b[0m\u001b[0;34m\u001b[0m\u001b[0;34m\u001b[0m\u001b[0m\n\u001b[0m",
      "\u001b[0;31mStopIteration\u001b[0m: "
     ]
    }
   ],
   "source": [
    "next(h)"
   ]
  },
  {
   "cell_type": "markdown",
   "id": "instrumental-thailand",
   "metadata": {},
   "source": [
    "À ce point, on est à la fin de l'énumération et on ne peut plus accéder aux valeurs précédentes.\n",
    "\n",
    "Ce comportement \"à état\" peut causer des bugs assez subtils. Prenons le générateur suivant, qui génère les valeurs [1, 2, 3, 4]:"
   ]
  },
  {
   "cell_type": "code",
   "execution_count": 18,
   "id": "instructional-irrigation",
   "metadata": {},
   "outputs": [],
   "source": [
    "gen = (a for a in [1, 2, 3, 4])"
   ]
  },
  {
   "cell_type": "markdown",
   "id": "significant-static",
   "metadata": {},
   "source": [
    "Si on oublie qu'on est en présence d'un générateur et non pas d'une liste, on peut essayer de vérifier si une valeur est dans la liste, à l'aide de l'opérateur ```in```:"
   ]
  },
  {
   "cell_type": "code",
   "execution_count": 19,
   "id": "breathing-albania",
   "metadata": {},
   "outputs": [
    {
     "data": {
      "text/plain": [
       "True"
      ]
     },
     "execution_count": 19,
     "metadata": {},
     "output_type": "execute_result"
    }
   ],
   "source": [
    "2 in gen"
   ]
  },
  {
   "cell_type": "markdown",
   "id": "respiratory-selection",
   "metadata": {},
   "source": [
    "Jusqu'ici, tout va bien: 2 est bien dans la liste. Mais pour évaluer si le nombre 2 était dans la liste, la mécanique en arrière de l'opérateur ```in``` a énuméré les valeurs jusqu'à trouver 2. L'état du générateur est donc \"arrêté\" après le 2. "
   ]
  },
  {
   "cell_type": "code",
   "execution_count": 20,
   "id": "alleged-damages",
   "metadata": {},
   "outputs": [
    {
     "data": {
      "text/plain": [
       "True"
      ]
     },
     "execution_count": 20,
     "metadata": {},
     "output_type": "execute_result"
    }
   ],
   "source": [
    "3 in gen"
   ]
  },
  {
   "cell_type": "markdown",
   "id": "fifteen-metallic",
   "metadata": {},
   "source": [
    "C'est toujours correct, puisque 3 est bien dans la liste. Mais c'est une chance: on s'était arrêté après le 2, et on a repris à cet endroit, ce qui nous a permis de trouver le 3.  "
   ]
  },
  {
   "cell_type": "code",
   "execution_count": 21,
   "id": "altered-factory",
   "metadata": {},
   "outputs": [
    {
     "data": {
      "text/plain": [
       "False"
      ]
     },
     "execution_count": 21,
     "metadata": {},
     "output_type": "execute_result"
    }
   ],
   "source": [
    "1 in gen"
   ]
  },
  {
   "cell_type": "markdown",
   "id": "several-penny",
   "metadata": {},
   "source": [
    "Cette fois, on a un problème: 1 est dans la liste, maisn'est trouvée dans l'énumeration. Ceci s'explique par le fait que l'énumération a continué après le 3, et il restait donc seulement le 4. La valeur 1 n'a donc pas été trouvée."
   ]
  },
  {
   "cell_type": "code",
   "execution_count": 22,
   "id": "worst-disposition",
   "metadata": {},
   "outputs": [
    {
     "data": {
      "text/plain": [
       "False"
      ]
     },
     "execution_count": 22,
     "metadata": {},
     "output_type": "execute_result"
    }
   ],
   "source": [
    "4 in gen"
   ]
  },
  {
   "cell_type": "markdown",
   "id": "pending-drill",
   "metadata": {},
   "source": [
    "Encore une fois l'énumération a continué, mais en cherchant le 1 on était arrivé au bout de la liste, et à présent on ne trouve même plus le 4, alors que c'était le dernier élément. À ce point-ci, plus aucune valeur ne sera trouvée comme étant ```in gen```."
   ]
  },
  {
   "cell_type": "markdown",
   "id": "breathing-russian",
   "metadata": {},
   "source": [
    "Notons que ces problèmes ne se posent pas avec ```range```, et ceci s'explique par le fait que la classe ```range``` est différente de la classe générateur (```generator```): aucune n'est sous-classe de l'autre. Avec ```range```, on doit accéder à un itérateur associé à l'objet en invoquant ```iter(...)```, et l'énumération recommence à chaque fois qu'on crée un nouvel itérateur (ce qui n'est pas le cas pour des générateurs)."
   ]
  },
  {
   "cell_type": "code",
   "execution_count": 23,
   "id": "together-chance",
   "metadata": {},
   "outputs": [
    {
     "name": "stdout",
     "output_type": "stream",
     "text": [
      "0\n",
      "1\n",
      "2\n",
      "3\n",
      "4\n",
      "=== 5 éléments\n",
      "0\n",
      "1\n",
      "2\n",
      "3\n",
      "4\n",
      "== encore 5 éléments\n"
     ]
    }
   ],
   "source": [
    "k = range(5)\n",
    "n =0\n",
    "for i in k:\n",
    "    n = n+1\n",
    "    print(i)\n",
    "print(\"===\",n, \"éléments\")\n",
    "\n",
    "n =0\n",
    "for i in k:\n",
    "    n = n+1\n",
    "    print(i)\n",
    "print(\"== encore\", n, \"éléments\")"
   ]
  },
  {
   "cell_type": "markdown",
   "id": "inner-quick",
   "metadata": {},
   "source": [
    "La classe ```range``` permet aussi d'utiliser l'opérateur ```[]``` pour accéder à un ou plusieurs éléments de l'intervalle:"
   ]
  },
  {
   "cell_type": "code",
   "execution_count": 24,
   "id": "hispanic-section",
   "metadata": {},
   "outputs": [
    {
     "data": {
      "text/plain": [
       "1"
      ]
     },
     "execution_count": 24,
     "metadata": {},
     "output_type": "execute_result"
    }
   ],
   "source": [
    "k[1]"
   ]
  },
  {
   "cell_type": "code",
   "execution_count": 25,
   "id": "opponent-inspiration",
   "metadata": {},
   "outputs": [
    {
     "data": {
      "text/plain": [
       "range(2, 4)"
      ]
     },
     "execution_count": 25,
     "metadata": {},
     "output_type": "execute_result"
    }
   ],
   "source": [
    "k[2:-1]"
   ]
  },
  {
   "cell_type": "markdown",
   "id": "textile-induction",
   "metadata": {},
   "source": [
    "## Définir son propre générateur\n",
    "\n",
    "On peut facilement créer un générateur qui ne soit pas une compréhension de liste ou une fonction existante. Le plus simple est de créer une fonction qui construit la liste de valeurs à retourner, mais au lieu de les stocker effectivement dans une liste, chaque valeur est renvoyée à l'aide de ```yield```: tout se passe comme si on faisait un ```return``` de chaque valeur de la liste, mais sans réellement quitter la fonction. Typiquement, on place donc le ```yield``` à l'intérieur d'une boucle. Par exemple, on peut implémenter comme suit un générateur qui énumère les valeurs de n à 0:"
   ]
  },
  {
   "cell_type": "code",
   "execution_count": 26,
   "id": "proud-extraction",
   "metadata": {},
   "outputs": [],
   "source": [
    "def compte_a_rebours(n):\n",
    "    while(n>0):\n",
    "        n -=1\n",
    "        yield n"
   ]
  },
  {
   "cell_type": "markdown",
   "id": "minor-winning",
   "metadata": {},
   "source": [
    "Remarquer l'absence de return et l'absence de stockage des valeurs. Testons:"
   ]
  },
  {
   "cell_type": "code",
   "execution_count": 27,
   "id": "planned-substitute",
   "metadata": {},
   "outputs": [
    {
     "name": "stdout",
     "output_type": "stream",
     "text": [
      "6\n",
      "5\n",
      "4\n",
      "3\n",
      "2\n",
      "1\n",
      "0\n"
     ]
    }
   ],
   "source": [
    "for j in compte_a_rebours(7):\n",
    "    print(j)"
   ]
  },
  {
   "cell_type": "markdown",
   "id": "suburban-arlington",
   "metadata": {},
   "source": [
    "Utilisons ```next()```:"
   ]
  },
  {
   "cell_type": "code",
   "execution_count": 28,
   "id": "prepared-murder",
   "metadata": {},
   "outputs": [],
   "source": [
    "g = compte_a_rebours(3)"
   ]
  },
  {
   "cell_type": "code",
   "execution_count": 29,
   "id": "formed-license",
   "metadata": {},
   "outputs": [
    {
     "data": {
      "text/plain": [
       "2"
      ]
     },
     "execution_count": 29,
     "metadata": {},
     "output_type": "execute_result"
    }
   ],
   "source": [
    "next(g)"
   ]
  },
  {
   "cell_type": "code",
   "execution_count": 30,
   "id": "negative-inclusion",
   "metadata": {},
   "outputs": [
    {
     "data": {
      "text/plain": [
       "1"
      ]
     },
     "execution_count": 30,
     "metadata": {},
     "output_type": "execute_result"
    }
   ],
   "source": [
    "next(g)"
   ]
  },
  {
   "cell_type": "code",
   "execution_count": 31,
   "id": "available-exposure",
   "metadata": {},
   "outputs": [
    {
     "data": {
      "text/plain": [
       "0"
      ]
     },
     "execution_count": 31,
     "metadata": {},
     "output_type": "execute_result"
    }
   ],
   "source": [
    "next(g)"
   ]
  },
  {
   "cell_type": "code",
   "execution_count": 32,
   "id": "strange-officer",
   "metadata": {},
   "outputs": [
    {
     "ename": "StopIteration",
     "evalue": "",
     "output_type": "error",
     "traceback": [
      "\u001b[0;31m---------------------------------------------------------------------------\u001b[0m",
      "\u001b[0;31mStopIteration\u001b[0m                             Traceback (most recent call last)",
      "\u001b[0;32m<ipython-input-32-e734f8aca5ac>\u001b[0m in \u001b[0;36m<module>\u001b[0;34m\u001b[0m\n\u001b[0;32m----> 1\u001b[0;31m \u001b[0mnext\u001b[0m\u001b[0;34m(\u001b[0m\u001b[0mg\u001b[0m\u001b[0;34m)\u001b[0m\u001b[0;34m\u001b[0m\u001b[0;34m\u001b[0m\u001b[0m\n\u001b[0m",
      "\u001b[0;31mStopIteration\u001b[0m: "
     ]
    }
   ],
   "source": [
    "next(g)"
   ]
  },
  {
   "cell_type": "markdown",
   "id": "creative-customer",
   "metadata": {},
   "source": [
    "On obtient donc un objet avec les fonctionnalités de base d'un générateur.\n",
    "\n",
    "Il est aussi pertinent de montrer que la présence d'une boucle n'est pas indispensable, et le yield n'est pas nécessairement unique:"
   ]
  },
  {
   "cell_type": "code",
   "execution_count": 33,
   "id": "continuing-partner",
   "metadata": {},
   "outputs": [],
   "source": [
    "def mon_gen():\n",
    "    yield 3\n",
    "    print(\"hello\")\n",
    "    yield 'w'\n",
    "    print(\"dernier element!\")\n",
    "    yield 0"
   ]
  },
  {
   "cell_type": "code",
   "execution_count": 34,
   "id": "sixth-implement",
   "metadata": {},
   "outputs": [
    {
     "data": {
      "text/plain": [
       "3"
      ]
     },
     "execution_count": 34,
     "metadata": {},
     "output_type": "execute_result"
    }
   ],
   "source": [
    "a = mon_gen()\n",
    "next(a)"
   ]
  },
  {
   "cell_type": "code",
   "execution_count": 35,
   "id": "electoral-redhead",
   "metadata": {},
   "outputs": [
    {
     "name": "stdout",
     "output_type": "stream",
     "text": [
      "hello\n"
     ]
    },
    {
     "data": {
      "text/plain": [
       "'w'"
      ]
     },
     "execution_count": 35,
     "metadata": {},
     "output_type": "execute_result"
    }
   ],
   "source": [
    "next(a)"
   ]
  },
  {
   "cell_type": "code",
   "execution_count": 36,
   "id": "funky-prevention",
   "metadata": {},
   "outputs": [
    {
     "name": "stdout",
     "output_type": "stream",
     "text": [
      "dernier element!\n"
     ]
    },
    {
     "data": {
      "text/plain": [
       "0"
      ]
     },
     "execution_count": 36,
     "metadata": {},
     "output_type": "execute_result"
    }
   ],
   "source": [
    "next(a)"
   ]
  },
  {
   "cell_type": "code",
   "execution_count": 37,
   "id": "involved-technician",
   "metadata": {},
   "outputs": [
    {
     "ename": "StopIteration",
     "evalue": "",
     "output_type": "error",
     "traceback": [
      "\u001b[0;31m---------------------------------------------------------------------------\u001b[0m",
      "\u001b[0;31mStopIteration\u001b[0m                             Traceback (most recent call last)",
      "\u001b[0;32m<ipython-input-37-15841f3f11d4>\u001b[0m in \u001b[0;36m<module>\u001b[0;34m\u001b[0m\n\u001b[0;32m----> 1\u001b[0;31m \u001b[0mnext\u001b[0m\u001b[0;34m(\u001b[0m\u001b[0ma\u001b[0m\u001b[0;34m)\u001b[0m\u001b[0;34m\u001b[0m\u001b[0;34m\u001b[0m\u001b[0m\n\u001b[0m",
      "\u001b[0;31mStopIteration\u001b[0m: "
     ]
    }
   ],
   "source": [
    "next(a)"
   ]
  },
  {
   "cell_type": "markdown",
   "id": "polished-mining",
   "metadata": {},
   "source": [
    "#### Exercice 1\n",
    "\n",
    "Écrire un générateur qui prend une chaine de caractères en entrée et énumère les caractères la composant"
   ]
  },
  {
   "cell_type": "code",
   "execution_count": null,
   "id": "induced-glory",
   "metadata": {},
   "outputs": [],
   "source": []
  }
 ],
 "metadata": {
  "kernelspec": {
   "display_name": "Python 3",
   "language": "python",
   "name": "python3"
  },
  "language_info": {
   "codemirror_mode": {
    "name": "ipython",
    "version": 3
   },
   "file_extension": ".py",
   "mimetype": "text/x-python",
   "name": "python",
   "nbconvert_exporter": "python",
   "pygments_lexer": "ipython3",
   "version": "3.9.1"
  }
 },
 "nbformat": 4,
 "nbformat_minor": 5
}
