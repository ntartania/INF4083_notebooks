{
 "cells": [
  {
   "cell_type": "markdown",
   "id": "velvet-elevation",
   "metadata": {},
   "source": [
    "# Map-Reduce-Filter\n",
    "\n",
    "```map```, ```reduce```, et ```filter``` sont trois fonctions d'ordre supérieur qui sont venues à symboliser le traitement fonctionnel de Mégadonnées sur des architectures distribuées (Hadoop, etc.).\n",
    "\n",
    "En combinant des opérations \"map\", \"reduce\" et \"filter\" on peut définir des workflows parallélisables pour implémenter une grande variété d'algorithmes. Ceci a motivé le développement chez Google d'une infrastructure dédiée à map-reduce, décrite dans un article de recherche qui a grandement contribué à populariser ces techniques.\n",
    "\n",
    "## Map\n",
    "\n",
    "```map``` permet de réaliser la fonctionnalité suivante: on a une liste en entrée, et on veut appliquer une même transformation à chaque élément de la liste, et récupérer en sortie une nouvelle liste avec les résultats de ces transformations.\n",
    "\n",
    "Elle s'utilise comme ceci:  \n",
    "```\n",
    "nouvelle_liste = map(f, liste_existante)\n",
    "```\n",
    "Le premier paramètre de map (```f``` dans l'exemple) est une __fonction__, et le deuxième paramètre est la liste d'entrée: \n",
    "\n",
    "si ```liste_existante``` est ```[e1, e2, ..., en]```, alors ```nouvelle_liste``` est la liste ```[f(e1), f(e2), ... f(en)]```.\n",
    "\n",
    "#### Exemple: \n",
    "On a une liste de lettres minuscules, par exemple: ```['b', 'a', 'f', 'z', 'i']```, et on veut appliquer la transformation qui consiste à les remplacer par la majuscule correspondante, ce qui nous donnerait ```['B', 'A', 'F', 'Z', 'I']```. \n",
    "\n",
    "Pour réaliser cette opération avec ```map```, il faut d'abord définir une fonction qui représente la transformation à appliquer à chaque élément de la liste de départ: ici, c'est une fonction qui prend en entrée une lettre minuscule et retourne la majuscule correspondante. En Python, la méthode ```upper``` de la classe ```str``` réalise cette fonctionnalité :"
   ]
  },
  {
   "cell_type": "code",
   "execution_count": 1,
   "id": "gorgeous-sharp",
   "metadata": {},
   "outputs": [
    {
     "data": {
      "text/plain": [
       "'A'"
      ]
     },
     "execution_count": 1,
     "metadata": {},
     "output_type": "execute_result"
    }
   ],
   "source": [
    "s = 'a'\n",
    "s.upper()"
   ]
  },
  {
   "cell_type": "markdown",
   "id": "postal-external",
   "metadata": {},
   "source": [
    "On peut l'utiliser pour définir une fonction très simple qui réalise la transformation cherchée:"
   ]
  },
  {
   "cell_type": "code",
   "execution_count": 2,
   "id": "purple-least",
   "metadata": {},
   "outputs": [],
   "source": [
    "def maj(car):\n",
    "    return car.upper()"
   ]
  },
  {
   "cell_type": "markdown",
   "id": "possible-occasions",
   "metadata": {},
   "source": [
    "On peut à présent utiliser cette fonction avec ```map``` et la liste d'entrée pour obtenir le résultat voulu:"
   ]
  },
  {
   "cell_type": "code",
   "execution_count": 3,
   "id": "sexual-testimony",
   "metadata": {},
   "outputs": [],
   "source": [
    "entree = ['b', 'a', 'f', 'z', 'i']\n",
    "resultat = map(maj, entree) #appliquer la fonction maj à chaque éléments de la liste entree"
   ]
  },
  {
   "cell_type": "markdown",
   "id": "extensive-sandwich",
   "metadata": {},
   "source": [
    "Pour que la transformation soit exécutée il nous faut invoquer le constructeur ```list()```, pour des raisons expliquées ci-dessous."
   ]
  },
  {
   "cell_type": "code",
   "execution_count": 4,
   "id": "invisible-burton",
   "metadata": {},
   "outputs": [
    {
     "data": {
      "text/plain": [
       "['B', 'A', 'F', 'Z', 'I']"
      ]
     },
     "execution_count": 4,
     "metadata": {},
     "output_type": "execute_result"
    }
   ],
   "source": [
    "list(resultat)"
   ]
  },
  {
   "cell_type": "markdown",
   "id": "coastal-flood",
   "metadata": {},
   "source": [
    "### Map: une fonction \"paresseuse\"\n",
    "\n",
    "En Python3, une particularité des fonctions ```map```, ```reduce``` et ```filter``` est qu'elles sont *paresseuses*, c'est-à-dire qu'elles ne produisent leurs résultats qu'à la demande et un par un.\n",
    "\n",
    "Quand Python \"exécute\" ```resultat = map(maj, entree)```, la valeur de ```resultat``` n'est pas la liste finale obtenue après transformation mais un \"objet map\" qui contient toutes les informations pour réaliser l'opération... mais les transformations elles-mêmes et la production de la nouvelle liste n'est pas encore faite.\n",
    "\n",
    "On pourra revoir les détails dans la section *Évaluation paresseuse et générateurs*. En attendant, notons que les \"objets map\", les \"objets reduce\" et \"objets filter\" peuvent être combinés entre eux comme s'ils étaient effectivement des listes déjà calculées."
   ]
  },
  {
   "cell_type": "markdown",
   "id": "agricultural-april",
   "metadata": {},
   "source": [
    "### Map: Exercices\n",
    "\n",
    "#### Exercice 1\n",
    "On définit une fonction ```carre``` comme suit:"
   ]
  },
  {
   "cell_type": "code",
   "execution_count": 5,
   "id": "bridal-american",
   "metadata": {},
   "outputs": [],
   "source": [
    "def carre(x):\n",
    "    return x*x"
   ]
  },
  {
   "cell_type": "markdown",
   "id": "stable-forward",
   "metadata": {},
   "source": [
    "On exécute ensuite les instructions suivantes:"
   ]
  },
  {
   "cell_type": "code",
   "execution_count": 6,
   "id": "general-millennium",
   "metadata": {},
   "outputs": [],
   "source": [
    "nombres = [1, 2, 5, 10]\n",
    "\n",
    "resultat = map(carre, nombres)"
   ]
  },
  {
   "cell_type": "markdown",
   "id": "baking-minute",
   "metadata": {},
   "source": [
    "Quel est le contenu de la liste ```resultat```?"
   ]
  },
  {
   "cell_type": "markdown",
   "id": "above-medication",
   "metadata": {},
   "source": [
    "#### Exercice 2\n",
    "\n",
    "On définit les listes ```entree``` et ```sortie``` comme suit:"
   ]
  },
  {
   "cell_type": "code",
   "execution_count": 1,
   "id": "concrete-benjamin",
   "metadata": {},
   "outputs": [],
   "source": [
    "entree = ['rouge' , 'bleu',  'vert', 'noir']\n",
    "sortie = ['ro', 'bl', 've', 'no']"
   ]
  },
  {
   "cell_type": "markdown",
   "id": "amazing-shock",
   "metadata": {},
   "source": [
    "Définir une fonction ```f``` telle que ```sortie = map(f, entree)```."
   ]
  },
  {
   "cell_type": "code",
   "execution_count": 3,
   "id": "polyphonic-yahoo",
   "metadata": {},
   "outputs": [
    {
     "data": {
      "text/plain": [
       "['ro', 'bl', 've', 'no']"
      ]
     },
     "execution_count": 3,
     "metadata": {},
     "output_type": "execute_result"
    }
   ],
   "source": [
    "def f(s):\n",
    "    return s[:2]\n",
    "\n",
    "list(map(f, entree))"
   ]
  },
  {
   "cell_type": "markdown",
   "id": "wicked-effects",
   "metadata": {},
   "source": [
    "## Filter\n",
    "\n",
    "La fonction ```filter```, comme son nom l'indique, permet de \"filtrer\" une liste, c'est-à-dire garder seulement certains de ses éléments. \n",
    "\n",
    "Plus précisément, la fonction ```filter``` s'utilise comme suit:\n",
    "```\n",
    "nouvelle_liste = filter(p, liste_existante)\n",
    "```\n",
    "La liste ```liste_existante``` est la liste en entrée, la fonction ```p``` est une fonction booléenne applicable aux éléments de ```liste_existante```. La liste obtenue ```nouvelle_liste``` contient le sous-ensemble des éléments de ```liste_existante``` pour lesquels ```p``` retourne ```True```. \n",
    "\n",
    "Noter que conformément aux principes de la programmation fonctionnelle, la liste ```liste_existante``` n'est pas modifiée: la ```filter``` retourne une nouvelle liste.\n",
    "\n",
    "#### Exemple\n",
    "On a une liste de mots, dont on veut garder seulement ceux qui commencent par une majuscule.\n",
    "L'entrée pourrait être: ```['mon', 'ami', 'Antoine', 'habite', 'en', 'Chine']```. \n",
    "La sortie serait alors: ```['Antoine', 'Chine']```. \n",
    "\n",
    "Pour réaliser cette opération avec ```filter```, il faut d'abord définir une fonction booléenne qui représente le critère de filtrage: elle doit retourner ```True``` pour les éléments qu'on veut garder, et ```False``` pour les éléments à éliminer. Pour notre exemple, on pourra utiliser la méthode ```isupper``` de la classe ```str```. On définira la fonction de filtrage comme suit:"
   ]
  },
  {
   "cell_type": "code",
   "execution_count": 8,
   "id": "enclosed-bridge",
   "metadata": {},
   "outputs": [],
   "source": [
    "def commenceMaj(mot):\n",
    "    return mot[0].isupper()"
   ]
  },
  {
   "cell_type": "markdown",
   "id": "varied-milan",
   "metadata": {},
   "source": [
    "On peut la tester:"
   ]
  },
  {
   "cell_type": "code",
   "execution_count": 9,
   "id": "formed-robin",
   "metadata": {},
   "outputs": [
    {
     "data": {
      "text/plain": [
       "False"
      ]
     },
     "execution_count": 9,
     "metadata": {},
     "output_type": "execute_result"
    }
   ],
   "source": [
    "commenceMaj('ami')"
   ]
  },
  {
   "cell_type": "code",
   "execution_count": 10,
   "id": "drawn-malta",
   "metadata": {},
   "outputs": [
    {
     "data": {
      "text/plain": [
       "True"
      ]
     },
     "execution_count": 10,
     "metadata": {},
     "output_type": "execute_result"
    }
   ],
   "source": [
    "commenceMaj('Antoine')"
   ]
  },
  {
   "cell_type": "markdown",
   "id": "confidential-ancient",
   "metadata": {},
   "source": [
    "La fonction filter s'utilise comme ceci:"
   ]
  },
  {
   "cell_type": "code",
   "execution_count": 11,
   "id": "correct-future",
   "metadata": {},
   "outputs": [],
   "source": [
    "entree = ['mon', 'ami', 'Antoine', 'habite', 'en', 'Chine']\n",
    "sortie = filter(commenceMaj, entree)"
   ]
  },
  {
   "cell_type": "markdown",
   "id": "adequate-maintenance",
   "metadata": {},
   "source": [
    "On utilise ```list()``` pour que la transformation se fasse (```filter```  est également paresseuse), et on affiche le résultat:"
   ]
  },
  {
   "cell_type": "code",
   "execution_count": 12,
   "id": "accompanied-discrimination",
   "metadata": {},
   "outputs": [
    {
     "name": "stdout",
     "output_type": "stream",
     "text": [
      "['Antoine', 'Chine']\n"
     ]
    }
   ],
   "source": [
    "print(list(sortie))"
   ]
  },
  {
   "cell_type": "markdown",
   "id": "patient-product",
   "metadata": {},
   "source": [
    "### Exercices\n",
    "\n",
    "#### Exercice 3\n",
    "Soit la fonction ```courte``` définie comme suit:"
   ]
  },
  {
   "cell_type": "code",
   "execution_count": 4,
   "id": "armed-clarity",
   "metadata": {},
   "outputs": [],
   "source": [
    "def courte(d):\n",
    "    return len(d)<2"
   ]
  },
  {
   "cell_type": "markdown",
   "id": "affected-owner",
   "metadata": {},
   "source": [
    "On exécute le code suivant:"
   ]
  },
  {
   "cell_type": "code",
   "execution_count": 5,
   "id": "humanitarian-intro",
   "metadata": {},
   "outputs": [],
   "source": [
    "liliste = [ [1, 3, 5], [], [4], [6, 7, 6], [3, 1], []]\n",
    "liste_c = filter(courte, liliste)"
   ]
  },
  {
   "cell_type": "markdown",
   "id": "usual-anniversary",
   "metadata": {},
   "source": [
    "Quel sera le contenu de la liste ```liste_c```?"
   ]
  },
  {
   "cell_type": "markdown",
   "id": "neural-extreme",
   "metadata": {},
   "source": [
    "#### Exercice 4\n",
    "\n",
    "On a une liste de nombres entiers ```nombres2```, et on veut obtenir dans une nouvelle liste ```pairs2``` les nombres pairs de ```nombres2```.\n",
    "Écrire le code pour obenir ```pairs2``` à partir de ```nombres2``` en utilisant une opération ```filter``` avec une fonction à définir."
   ]
  },
  {
   "cell_type": "code",
   "execution_count": null,
   "id": "passing-shield",
   "metadata": {},
   "outputs": [],
   "source": []
  },
  {
   "cell_type": "markdown",
   "id": "comparative-climb",
   "metadata": {},
   "source": [
    "## Reduce\n",
    "\n",
    "La fonction ```reduce``` permet de combiner entre eux les éléments d'une liste en appliquant de manière répétée une opération binaire, pour obtenir une seule valeur: la liste a ainsi été \"réduite\" à une valeur. \n",
    "\n",
    "Par exemple, \"réduire\" une liste d'entiers avec l'opération binaire \"addition\" consiste à faire la somme de tous les éléments de la liste. L'opération ```reduce``` généralise cette idée à d'autres opérations binaires, qu'on peut spécifier par des fonctions de deux paramètres. Habituellement, on utilise des opérations associatives afin que l'ordre des opérations n'ait pas d'importance. \n",
    "\n",
    "Plus précisément, la fonction ```reduce``` s'utilise comme suit:\n",
    "```\n",
    "element = reduce(h, liste_entree)\n",
    "```\n",
    "La liste ```liste_entree``` est une liste d'au moins deux éléments, la fonction ```h``` est une fonction de deux paramètres, applicable aux éléments de la liste ```liste_entree```, et qui retourne une valeur de même type. La valeur ```element``` obtenue en sortie est le résultat d'appliquer la fonction ```h``` aux deux premiers éléments de ```liste_entree```, puis à nouveau au résultat de cette opération et au troisième élément de ```liste_entree```, puis au résultat et au quatrième élément de ```liste_entree```, et ainsi de suite jusqu'au dernier élément de ```liste_entree```. \n",
    "\n",
    "Autrement dit, si ```liste_entree``` est ```[e1, e2, ..., en]```, alors ```element``` est la valeur ```h(...(h(h(e1, e2), e3), ... , en)```\n",
    "\n",
    "Notons aussi que pour utiliser cette fonction en Python, il faut l'importer du module functools:\n",
    "```from functools import reduce```.\n",
    "\n",
    "#### Exemple\n",
    "On a une liste de mots qu'on veut concaténer en une seule chaine de caractères, en séparant les mots par des espaces.\n",
    "L'entrée pourrait être: ```['mon', 'ami', 'Antoine', 'habite', 'en', 'Chine']```. \n",
    "La sortie serait alors: ```'mon ami Antoine habite en Chine'```. \n",
    "\n",
    "Pour réaliser cette opération avec ```reduce```, il faut définir l'opération binaire par laquelle on va combiner les éléments entre eux: ici on prend deux chaines de caractères, et on les concatène avec un espace entre les deux. On obtient bien une autre chaine de caractères, qui pourra être utilisée comme entrée de la même opération. \n",
    "\n",
    "Cette opération peut être réalisée par la fonction suivante:"
   ]
  },
  {
   "cell_type": "code",
   "execution_count": 15,
   "id": "large-classroom",
   "metadata": {},
   "outputs": [],
   "source": [
    "def concat_espace(s1, s2):\n",
    "    return s1 + \" \" + s2"
   ]
  },
  {
   "cell_type": "markdown",
   "id": "sustained-remark",
   "metadata": {},
   "source": [
    "On applique la fonction ```reduce``` à la liste donnée:"
   ]
  },
  {
   "cell_type": "code",
   "execution_count": 16,
   "id": "brazilian-fashion",
   "metadata": {},
   "outputs": [
    {
     "name": "stdout",
     "output_type": "stream",
     "text": [
      "mon ami Antoine habite en Chine\n"
     ]
    }
   ],
   "source": [
    "from functools import reduce # on importe la fonction du module functools\n",
    "\n",
    "mots = ['mon', 'ami', 'Antoine', 'habite', 'en', 'Chine']\n",
    "phrase = reduce(concat_espace, mots)\n",
    "\n",
    "print(phrase) # on affiche le résultat"
   ]
  },
  {
   "cell_type": "markdown",
   "id": "bearing-terrorism",
   "metadata": {},
   "source": [
    "#### Exercice 5\n",
    "\n",
    "On définit une fonction ```plusCourt``` qui prend en entrée deux chaines de caractères et retourne la plus courte:"
   ]
  },
  {
   "cell_type": "code",
   "execution_count": 17,
   "id": "collected-dressing",
   "metadata": {},
   "outputs": [],
   "source": [
    "def plusCourt(s1, s2):\n",
    "    if(len(s1)<len(s2)):\n",
    "        return s1\n",
    "    return s2"
   ]
  },
  {
   "cell_type": "markdown",
   "id": "equivalent-acting",
   "metadata": {},
   "source": [
    "Si on applique une opération ```reduce(plusCourt, mots)``` où ```mots``` est la liste de mots de l'exemple ci-dessus, quel sera le résultat?"
   ]
  },
  {
   "cell_type": "markdown",
   "id": "appreciated-behavior",
   "metadata": {},
   "source": [
    "#### Exercice 6\n",
    "\n",
    "On définit ci-dessous la fonction ```compresse``` qui s'applique à des tuples, et retourne un tuple de deux éléments:"
   ]
  },
  {
   "cell_type": "code",
   "execution_count": 7,
   "id": "younger-estonia",
   "metadata": {},
   "outputs": [],
   "source": [
    "def compresse(t1, t2):\n",
    "    return (t1[0], t2[-1]) # l'indice -1 se réfère au dernier élément du tuple"
   ]
  },
  {
   "cell_type": "markdown",
   "id": "similar-honolulu",
   "metadata": {},
   "source": [
    "Quel sera le résultat de l'opération ```reduce(compresse, [(0,10), (3, 4), (9, 0), (7,7)])```?"
   ]
  },
  {
   "cell_type": "markdown",
   "id": "classified-dryer",
   "metadata": {},
   "source": [
    "#### Exercice 7\n",
    "\n",
    "On suppose qu'on a une liste de booléens ```listeb```.\n",
    "\n",
    "1. Définir une fonction ```f_tous``` telle que  ```reduce(f_tous, listeb)``` donne ```True``` si _tous les éléments_ de ```listeb``` sont ```True```.\n",
    "\n",
    "2. Définir une fonction ```f_un``` telle que  ```reduce(f_un, listeb)``` donne ```True``` si la liste ```liste_b``` contient _au moins un_ ```True```."
   ]
  },
  {
   "cell_type": "code",
   "execution_count": 10,
   "id": "thousand-cause",
   "metadata": {},
   "outputs": [],
   "source": [
    "def f_tous(b1, b2):\n",
    "    ..."
   ]
  },
  {
   "cell_type": "code",
   "execution_count": 11,
   "id": "third-violence",
   "metadata": {},
   "outputs": [
    {
     "data": {
      "text/plain": [
       "True"
      ]
     },
     "execution_count": 11,
     "metadata": {},
     "output_type": "execute_result"
    }
   ],
   "source": [
    "reduce(f_tous, [True,True, True, True])"
   ]
  },
  {
   "cell_type": "code",
   "execution_count": 12,
   "id": "innocent-smoke",
   "metadata": {},
   "outputs": [
    {
     "data": {
      "text/plain": [
       "False"
      ]
     },
     "execution_count": 12,
     "metadata": {},
     "output_type": "execute_result"
    }
   ],
   "source": [
    "reduce(f_tous, [True, False, True, False, True])"
   ]
  },
  {
   "cell_type": "markdown",
   "id": "valued-morris",
   "metadata": {},
   "source": [
    "### Reduce avec valeur initiale, types hétérogènes\n",
    "Il est aussi possible de donner en entrée une valeur initiale, telle que l'opération ```reduce``` commence par combiner la valeur initiale avec le premier élément, puis le résultat de cette opération avec le deuxième élément, etc.\n",
    "\n",
    "On donne alors un troisième paramètre, comme ceci:\n",
    "\n",
    "```\n",
    "element = reduce(h, liste_entree, val_ini)\n",
    "```\n",
    "Le résultat sera alors: ```element = h(...h(h(h(val_ini, e1), e2), e3), ... , en)```\n",
    "\n",
    "L'utilisation d'une valeur initiale permet d'utiliser une opération ```reduce``` sans erreur quand la liste ne comporte qu'un seul élément, ou bien de réaliser une réduction où le résultat est d'un type différent des éléments de la liste d'entrée.\n",
    "\n",
    "Supposons par exemple qu'on a en entrée une liste de listes, et qu'on veuille obtenir la _somme des longueurs_ des listes: "
   ]
  },
  {
   "cell_type": "code",
   "execution_count": 19,
   "id": "supposed-mention",
   "metadata": {},
   "outputs": [],
   "source": [
    "entree = [[1, 0], [], [2, 2, 2, 2], [3, 9]]"
   ]
  },
  {
   "cell_type": "markdown",
   "id": "rapid-raleigh",
   "metadata": {},
   "source": [
    "On voudrait calculer la somme des longueurs des listes \"intérieures\", soit 2 + 0 + 4 + 2. \n",
    "On a une liste dont les éléments sont des listes, et on veut une valeur finale qui est un nombre entier. On ne peut donc pas réaliser cette opération avec un ```reduce``` simple comme au-dessus.\n",
    "On pourrait faire cela en deux étapes (```map``` pour obtenir les longueurs puis ```reduce``` pour en faire la somme), mais on peut aussi faire le calcul directement par un ```reduce``` avec une valeur initiale. On peut définir l'opération binaire suivante: "
   ]
  },
  {
   "cell_type": "code",
   "execution_count": 20,
   "id": "turned-wagner",
   "metadata": {},
   "outputs": [],
   "source": [
    "def sommeLen(a, liste):\n",
    "    return a + len(liste)"
   ]
  },
  {
   "cell_type": "markdown",
   "id": "reserved-poultry",
   "metadata": {},
   "source": [
    "Ici, le paramètre ```a``` sert d'accumulateur (dont la valeur initiale est 0) et permet d'effectuer la somme par étapes, en prenant à chaque étape la prochaine liste:"
   ]
  },
  {
   "cell_type": "code",
   "execution_count": 21,
   "id": "combined-hollow",
   "metadata": {},
   "outputs": [
    {
     "name": "stdout",
     "output_type": "stream",
     "text": [
      "8\n"
     ]
    }
   ],
   "source": [
    "somme_longueurs = reduce(sommeLen, entree, 0)\n",
    "\n",
    "print(somme_longueurs)"
   ]
  },
  {
   "cell_type": "markdown",
   "id": "certain-harvest",
   "metadata": {},
   "source": [
    "## Séquences Map-Reduce-Filter\n",
    "\n",
    "Une fois qu'on sait manipuler des listes avec les fonctions ```map```, ```reduce```, et ```filter```, on peut réaliser des fonctionnalités plus complexes en combinant ces opérations en séquence: le résultat d'un ```map``` est une liste et peut être passé en entrée d'un ```filter``` ou d'un ```reduce```. On peut donc décomposer un problème complexe en une série d'étapes ```map```, ```filter```, ou ```reduce```. Un avantage d'une telle décomposition est qu'on peut ensuite exécuter l'opération sur une infrastructure distribuée dédiée comme Hadoop. \n",
    "\n",
    "Notons que dans les exemples classiques de \"MapReduce\" qu'on trouvera sur le Web (et notamment dans l'article publié par Google qui a donné son nom à ce paradigme), les étapes ```map``` produisent des listes de paires (clé, valeur), et avant d'effectuer l'étape ```reduce``` on groupe les paires par clé: l'étape est souvent nommée \"shuffle\", mais la fonction qui l'implémente est habituellement appelée ```groupBy```.\n",
    "\n",
    "Ici on va donner quelques exemples de problèmes simples avec des solutions utilisant seulement les fonctions ```map```, ```reduce```, et ```filter``` telles que définies ci-dessus. \n",
    "\n",
    "\n",
    "#### Exemple: longueur des listes\n",
    "Reprenons d'abord l'exemple de la section précédente, où on a en entrée une liste de listes:\n",
    "```\n",
    "entree = [[1, 0], [], [2, 2, 2, 2], [3, 9]]\n",
    "```\n",
    "et on veut calculer la somme des longueurs de ces listes.\n",
    "\n",
    "Ceci peut être fait en deux étapes, une étape ```map``` où on associe à chaque liste sa longueur, puis une étape ```reduce``` où on fait la somme des longueurs.\n",
    "\n",
    "Pour l'étape ```map``` on peut simplement utiliser la fonction existante ```len()```, et pour le ```reduce``` on définit une fonction somme:"
   ]
  },
  {
   "cell_type": "code",
   "execution_count": 22,
   "id": "authentic-thriller",
   "metadata": {},
   "outputs": [],
   "source": [
    "def somme(x, y):\n",
    "    return x+y"
   ]
  },
  {
   "cell_type": "markdown",
   "id": "hired-riverside",
   "metadata": {},
   "source": [
    "On peut maintenant effectuer les deux étapes:"
   ]
  },
  {
   "cell_type": "code",
   "execution_count": 23,
   "id": "extra-smell",
   "metadata": {},
   "outputs": [
    {
     "name": "stdout",
     "output_type": "stream",
     "text": [
      "8\n"
     ]
    }
   ],
   "source": [
    "longueurs = map(len, entree)\n",
    "sommeLongueurs = reduce(somme, longueurs)\n",
    "print(sommeLongueurs)"
   ]
  },
  {
   "cell_type": "markdown",
   "id": "configured-plate",
   "metadata": {},
   "source": [
    "On peut aussi directement imbriquer les appels de fonctions ```map``` et ```reduce```:"
   ]
  },
  {
   "cell_type": "code",
   "execution_count": 24,
   "id": "initial-acrylic",
   "metadata": {},
   "outputs": [
    {
     "name": "stdout",
     "output_type": "stream",
     "text": [
      "8\n"
     ]
    }
   ],
   "source": [
    "sommeLongueurs = reduce(somme, map(len, entree))\n",
    "print(sommeLongueurs)"
   ]
  },
  {
   "cell_type": "markdown",
   "id": "velvet-kitchen",
   "metadata": {},
   "source": [
    "#### Exemple: Tri-fusion avec map-reduce\n",
    "\n",
    "On veut trier une liste avec une version map-reduce du tri fusion: l'idée est de remplacer d'abord chaque élément de la liste par une liste contenant seulement cet élément (ceci peut se faire par un ```map```). On peut ensuite fusionner toutes ces listes en une seule, à l'aide d'une étape ```reduce``` qui fusionne deux listes.\n",
    "\n",
    "On définit la fonction nécessaire pour le ```map```:"
   ]
  },
  {
   "cell_type": "code",
   "execution_count": 25,
   "id": "olive-uruguay",
   "metadata": {},
   "outputs": [],
   "source": [
    "def singleton(x):\n",
    "    return [x]"
   ]
  },
  {
   "cell_type": "markdown",
   "id": "eleven-cooler",
   "metadata": {},
   "source": [
    "Ensuite une fonction pour fusionner deux listes pour l'étape ```reduce``` (celle-ci est un peu plus complexe):"
   ]
  },
  {
   "cell_type": "code",
   "execution_count": 26,
   "id": "cutting-sixth",
   "metadata": {},
   "outputs": [],
   "source": [
    "def fusion(a1, a2):\n",
    "    if (a1==[]):\n",
    "        return a2\n",
    "    elif (a2==[]):\n",
    "        return a1\n",
    "    else:\n",
    "        if(a1[0]<a2[0]):\n",
    "            return [a1[0]] + fusion(a1[1:], a2)\n",
    "        else: \n",
    "            return [a2[0]] + fusion(a1, a2[1:])"
   ]
  },
  {
   "cell_type": "markdown",
   "id": "catholic-escape",
   "metadata": {},
   "source": [
    "On peut à présent effectuer le tri en deux étapes:"
   ]
  },
  {
   "cell_type": "code",
   "execution_count": 27,
   "id": "comprehensive-geometry",
   "metadata": {},
   "outputs": [
    {
     "name": "stdout",
     "output_type": "stream",
     "text": [
      "[-1, 0, 1, 2, 3, 3, 4, 5, 5, 6, 9, 12]\n"
     ]
    }
   ],
   "source": [
    "atrier = [2, 5, 1, 0, 9, 5, 12, -1, 6, 4, 3, 3]\n",
    "aprestri = reduce(fusion, map(singleton, atrier))\n",
    "\n",
    "print(aprestri)"
   ]
  },
  {
   "cell_type": "markdown",
   "id": "expressed-difficulty",
   "metadata": {},
   "source": [
    "Pour bien comprendre ce qu'il se passe, on peut détailler les étapes:\n",
    "\n",
    "On commence avec ```atrier = [2, 5, 1, 0, 9, 5, 12, -1, 6, 4, 3, 3]```\n",
    "1. Étape ```map```: on obtient une liste de listes d'un seul élément chacune:"
   ]
  },
  {
   "cell_type": "code",
   "execution_count": 28,
   "id": "opposite-investigator",
   "metadata": {},
   "outputs": [
    {
     "data": {
      "text/plain": [
       "[[2], [5], [1], [0], [9], [5], [12], [-1], [6], [4], [3], [3]]"
      ]
     },
     "execution_count": 28,
     "metadata": {},
     "output_type": "execute_result"
    }
   ],
   "source": [
    "list(map(singleton, atrier))"
   ]
  },
  {
   "cell_type": "markdown",
   "id": "military-disability",
   "metadata": {},
   "source": [
    "2. Étape ```reduce```: le reduce appelle d'abord la fonction ```fusion``` sur les deux premiers éléments:"
   ]
  },
  {
   "cell_type": "code",
   "execution_count": 29,
   "id": "verbal-cyprus",
   "metadata": {},
   "outputs": [
    {
     "data": {
      "text/plain": [
       "[2, 5]"
      ]
     },
     "execution_count": 29,
     "metadata": {},
     "output_type": "execute_result"
    }
   ],
   "source": [
    "fusion([2],[5])"
   ]
  },
  {
   "cell_type": "markdown",
   "id": "solved-sapphire",
   "metadata": {},
   "source": [
    "... ensuite on appelle ```fusion``` sur le résultat du premier appel, et le troisième élément:"
   ]
  },
  {
   "cell_type": "code",
   "execution_count": 30,
   "id": "posted-cardiff",
   "metadata": {},
   "outputs": [
    {
     "data": {
      "text/plain": [
       "[1, 2, 5]"
      ]
     },
     "execution_count": 30,
     "metadata": {},
     "output_type": "execute_result"
    }
   ],
   "source": [
    "fusion([2,5], [1])"
   ]
  },
  {
   "cell_type": "markdown",
   "id": "demanding-outside",
   "metadata": {},
   "source": [
    "... et ainsi de suite:"
   ]
  },
  {
   "cell_type": "code",
   "execution_count": 31,
   "id": "musical-museum",
   "metadata": {},
   "outputs": [
    {
     "data": {
      "text/plain": [
       "[0, 1, 2, 5]"
      ]
     },
     "execution_count": 31,
     "metadata": {},
     "output_type": "execute_result"
    }
   ],
   "source": [
    "fusion([1, 2, 5], [0])"
   ]
  },
  {
   "cell_type": "markdown",
   "id": "juvenile-tobacco",
   "metadata": {},
   "source": [
    "Remarquer qu'ici, le deuxième argument est toujours un singleton: on aurait pu utiliser ceci pour simplifier la fonction de fusion: il aurait suffit d'insérer un élément dans une liste triée, plutôt que de fusionner deux listes. Mais l'avantage d'utiliser la fonction ```fusion``` telle qu'elle est, c'est qu'elle est associative (l'opération d'insérer un élément dans une liste triée ne serait pas associative, pour la simple raison que les deux opérandes ne sont pas du même type, voir plus bas pour une discussion plus détaillée), et qu'on pourrait paralléliser le ```reduce```:"
   ]
  },
  {
   "cell_type": "code",
   "execution_count": 32,
   "id": "metropolitan-scroll",
   "metadata": {},
   "outputs": [
    {
     "data": {
      "text/plain": [
       "[-1, 0, 1, 2, 5, 5, 9, 12]"
      ]
     },
     "execution_count": 32,
     "metadata": {},
     "output_type": "execute_result"
    }
   ],
   "source": [
    "fusion(fusion([1, 2, 5], [0]), fusion(fusion([9], [5]), fusion([12], [-1])))"
   ]
  },
  {
   "cell_type": "markdown",
   "id": "amino-theater",
   "metadata": {},
   "source": [
    "Prenons un dernier exemple avec ```filter```: on veut déterminer si un nombre ```n``` est _parfait_: un nnombre parfait est égal à la somme de ses diviseurs propres. On doit donc lister ses diviseurs propres (on filtre les nombres inférieurs à ```n``` qui divisent ```n```, puis on en fait la somme.\n",
    "\n",
    "On peut écrire une fonction qui fait la somme des diviseurs propres d'un nombre ```n```:"
   ]
  },
  {
   "cell_type": "code",
   "execution_count": 33,
   "id": "computational-topic",
   "metadata": {},
   "outputs": [],
   "source": [
    "def somme_diviseurs(n):\n",
    "    def divise_n(i):\n",
    "        return n%i==0\n",
    "    return reduce(somme, filter(divise_n, range(1, n))) # on réutilise la fonction somme définie précédemment"
   ]
  },
  {
   "cell_type": "markdown",
   "id": "aquatic-island",
   "metadata": {},
   "source": [
    "Un nombre est parfait s'il est égal à la somme de ses diviseurs propres:"
   ]
  },
  {
   "cell_type": "code",
   "execution_count": 34,
   "id": "transparent-reserve",
   "metadata": {},
   "outputs": [],
   "source": [
    "def estParfait(n):\n",
    "    return n==somme_diviseurs(n)"
   ]
  },
  {
   "cell_type": "markdown",
   "id": "auburn-maple",
   "metadata": {},
   "source": [
    "On teste (6, 28, et 496 sont les trois premiers nombres parfaits):"
   ]
  },
  {
   "cell_type": "code",
   "execution_count": 35,
   "id": "terminal-psychiatry",
   "metadata": {},
   "outputs": [
    {
     "data": {
      "text/plain": [
       "True"
      ]
     },
     "execution_count": 35,
     "metadata": {},
     "output_type": "execute_result"
    }
   ],
   "source": [
    "estParfait(6)"
   ]
  },
  {
   "cell_type": "code",
   "execution_count": 36,
   "id": "adjustable-grain",
   "metadata": {},
   "outputs": [
    {
     "data": {
      "text/plain": [
       "False"
      ]
     },
     "execution_count": 36,
     "metadata": {},
     "output_type": "execute_result"
    }
   ],
   "source": [
    "estParfait(20)"
   ]
  },
  {
   "cell_type": "code",
   "execution_count": 37,
   "id": "first-candidate",
   "metadata": {},
   "outputs": [
    {
     "data": {
      "text/plain": [
       "True"
      ]
     },
     "execution_count": 37,
     "metadata": {},
     "output_type": "execute_result"
    }
   ],
   "source": [
    "estParfait(28)"
   ]
  },
  {
   "cell_type": "code",
   "execution_count": 38,
   "id": "fossil-employment",
   "metadata": {},
   "outputs": [
    {
     "data": {
      "text/plain": [
       "True"
      ]
     },
     "execution_count": 38,
     "metadata": {},
     "output_type": "execute_result"
    }
   ],
   "source": [
    "estParfait(496)"
   ]
  },
  {
   "cell_type": "markdown",
   "id": "indonesian-coffee",
   "metadata": {},
   "source": [
    "## Map-Reduce et Parallélisme\n",
    "\n",
    "Le paradigme de programmation distribuée \"map-reduce\" tel qu'il a été popularisé sur des infrastructures distribuées suppose que les opérations ```map```, ```filter```, et ```reduce``` sont parallélisables. Pour ```map``` et ```filter```, on applique une même fonction sur chaque élément de la liste d'entrée, sans aucune interaction entre ces calculs. L'opération est donc toujours parallélisable, du moment que la fonction utilisée est référentiellement transparente (n'a pas d'effets de bord). \n",
    "\n",
    "En revanche, pour pouvoir paralléliser une opération ```reduce```, il est nécessaire que l'opération binaire utilisée soit associative. Si l'opération binaire est réalisée par une fonction ```h```, l'associativité signifie que pour tous éléments ```a```, ```b```, ```c```, on ait: ```h(a, h(b,c)) == h(h(a,b), c)```. Cette propriété permet d'appliquer l'opération binaire en parallèle sur plusieurs paires d'élements de la liste d'entrée, et de combiner ensuite les résultats entre eux, sans que le résultat dépende de l'ordre d'application.\n",
    "\n",
    "Pour une liste de quatre éléments ```[a, b, c, d]``` et une opération binaire implémentée par la fonction ```h```, la spécification normale de ```reduce``` est que ```reduce(h, [a, b, c, d])``` donne ```h(h(h(a, b), c),d)```\n",
    ": on applique d'abord ```h``` à ```a``` et ```b```,  puis au résultat de ce calcul et à ```c```, puis enfin au résultat de ce deuxième calcul et à ```d```: on a trois étapes en séquence. \n",
    "\n",
    "Si ```h``` implémente une opération associative, alors on pourra effectuer les opérations ```h(a, b)``` et ```h(c,d)``` en parallèle, puis combiner les deux résultats dans une deuxième étape. Le parallélisme réduit le temps total de calcul au temps nécessaire pour faire faire deux calculs en séquence plutôt que trois.  \n",
    "\n",
    "Plus généralement, pour une liste de longueur ```n```, le nombre d'étapes de calcul est alors la profondeur d'un arbre binaire à ```n``` feuilles, soit $O(log_2(n))$ .\n",
    "\n",
    "\n",
    "\n"
   ]
  }
 ],
 "metadata": {
  "kernelspec": {
   "display_name": "Python 3",
   "language": "python",
   "name": "python3"
  },
  "language_info": {
   "codemirror_mode": {
    "name": "ipython",
    "version": 3
   },
   "file_extension": ".py",
   "mimetype": "text/x-python",
   "name": "python",
   "nbconvert_exporter": "python",
   "pygments_lexer": "ipython3",
   "version": "3.9.1"
  }
 },
 "nbformat": 4,
 "nbformat_minor": 5
}
