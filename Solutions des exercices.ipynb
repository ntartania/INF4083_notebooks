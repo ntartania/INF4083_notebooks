{
 "cells": [
  {
   "cell_type": "markdown",
   "id": "knowing-toilet",
   "metadata": {},
   "source": [
    "# Solutions des exercices\n",
    "\n",
    "Ce notebook regroupe les solutions de tous les exercices des notebooks de programmation fonctionnelle. ils sont listés dans l'ordre suivant:\n",
    "1. Expressions conditionnelles\n",
    "2. Récursivité\n",
    "3. Map-Reduce-Filter\n",
    "4. Fonctions de première classe\n",
    "5. Générateurs\n",
    "\n",
    "## Expressions conditionnelles"
   ]
  },
  {
   "cell_type": "markdown",
   "id": "behind-spending",
   "metadata": {},
   "source": [
    "### Exercice 1\n",
    "On a deux nombres quelconques ```a``` et ```b```.\n",
    "Écrire une expression conditionnelle dont la valeur est _la plus grande deux valeurs ```a``` et ```b```_"
   ]
  },
  {
   "cell_type": "code",
   "execution_count": 1,
   "id": "operational-blake",
   "metadata": {},
   "outputs": [],
   "source": [
    "a = 3\n",
    "b = 7\n",
    "plusGrand = a if a>b else b"
   ]
  },
  {
   "cell_type": "code",
   "execution_count": 2,
   "id": "noble-transsexual",
   "metadata": {},
   "outputs": [
    {
     "data": {
      "text/plain": [
       "7"
      ]
     },
     "execution_count": 2,
     "metadata": {},
     "output_type": "execute_result"
    }
   ],
   "source": [
    "plusGrand"
   ]
  },
  {
   "cell_type": "markdown",
   "id": "brave-carnival",
   "metadata": {},
   "source": [
    "#### Données pour exercice 2"
   ]
  },
  {
   "cell_type": "code",
   "execution_count": 3,
   "id": "underlying-competition",
   "metadata": {},
   "outputs": [],
   "source": [
    "x=0 \n",
    "y=5 \n",
    "z = [] \n",
    "t = [4]"
   ]
  },
  {
   "cell_type": "markdown",
   "id": "forced-islam",
   "metadata": {},
   "source": [
    "### Exercice 2\n",
    "\n",
    "Donner la valeur de l'expression suivante:"
   ]
  },
  {
   "cell_type": "code",
   "execution_count": 4,
   "id": "healthy-neutral",
   "metadata": {},
   "outputs": [
    {
     "data": {
      "text/plain": [
       "[]"
      ]
     },
     "execution_count": 4,
     "metadata": {},
     "output_type": "execute_result"
    }
   ],
   "source": [
    "(x or z) and (t or y)"
   ]
  },
  {
   "cell_type": "markdown",
   "id": "minute-boundary",
   "metadata": {},
   "source": [
    "### Exercice 3\n",
    "\n",
    "On a une liste ```z```. Écrire une expression conditionnelle utilisant ```or```, qui donne la longueur de ```z``` si la liste ```z``` n'est pas vide, sinon la valeur -1."
   ]
  },
  {
   "cell_type": "code",
   "execution_count": 5,
   "id": "arctic-morgan",
   "metadata": {},
   "outputs": [
    {
     "data": {
      "text/plain": [
       "3"
      ]
     },
     "execution_count": 5,
     "metadata": {},
     "output_type": "execute_result"
    }
   ],
   "source": [
    "z = [3, 7, 8]\n",
    "(z and len(z)) or -1"
   ]
  },
  {
   "cell_type": "code",
   "execution_count": 6,
   "id": "embedded-foundation",
   "metadata": {},
   "outputs": [
    {
     "data": {
      "text/plain": [
       "-1"
      ]
     },
     "execution_count": 6,
     "metadata": {},
     "output_type": "execute_result"
    }
   ],
   "source": [
    "z = []\n",
    "(z and len(z)) or -1"
   ]
  },
  {
   "cell_type": "markdown",
   "id": "exciting-antenna",
   "metadata": {},
   "source": [
    "## Récursivité"
   ]
  },
  {
   "cell_type": "markdown",
   "id": "empirical-vegetation",
   "metadata": {},
   "source": [
    "### Exercice 1\n",
    "\n",
    "En utilisant la technique ci-dessus, écrire une fonction récursive ```sommeJusqua(n)``` qui calcule la somme des entiers de 1 à n.\n",
    "\n",
    "**Étape 1:** ```n``` est le facteur de complexité du problème. On écrit la fonction pour ```n``` fixe = 1, 2, 3"
   ]
  },
  {
   "cell_type": "code",
   "execution_count": 7,
   "id": "laden-recording",
   "metadata": {},
   "outputs": [],
   "source": [
    "def sommeJusqua1():\n",
    "    return 1\n",
    "\n",
    "def sommeJusqua2():\n",
    "    return 1 + 2\n",
    "\n",
    "def sommeJusqua3():\n",
    "    return 1+2+3"
   ]
  },
  {
   "cell_type": "markdown",
   "id": "alone-killer",
   "metadata": {},
   "source": [
    "**Étape 2**"
   ]
  },
  {
   "cell_type": "code",
   "execution_count": 8,
   "id": "logical-onion",
   "metadata": {},
   "outputs": [],
   "source": [
    "def sommeJusqua1():\n",
    "    return 1\n",
    "\n",
    "def sommeJusqua2():\n",
    "    return sommeJusqua1() + 2\n",
    "\n",
    "def sommeJusqua3():\n",
    "    return sommeJusqua2() + 3"
   ]
  },
  {
   "cell_type": "markdown",
   "id": "married-amplifier",
   "metadata": {},
   "source": [
    "**Étape 3**"
   ]
  },
  {
   "cell_type": "code",
   "execution_count": 9,
   "id": "legislative-dating",
   "metadata": {},
   "outputs": [],
   "source": [
    "def sommeJusqua(n):\n",
    "    if (n==1):  # on suppose n>=1\n",
    "        return 1\n",
    "    else:\n",
    "        return sommeJusqua(n-1) + n"
   ]
  },
  {
   "cell_type": "markdown",
   "id": "reflected-source",
   "metadata": {},
   "source": [
    "**Testons:**"
   ]
  },
  {
   "cell_type": "code",
   "execution_count": 10,
   "id": "wrapped-security",
   "metadata": {},
   "outputs": [
    {
     "data": {
      "text/plain": [
       "15"
      ]
     },
     "execution_count": 10,
     "metadata": {},
     "output_type": "execute_result"
    }
   ],
   "source": [
    "sommeJusqua(5)"
   ]
  },
  {
   "cell_type": "code",
   "execution_count": 11,
   "id": "russian-generation",
   "metadata": {},
   "outputs": [
    {
     "data": {
      "text/plain": [
       "15"
      ]
     },
     "execution_count": 11,
     "metadata": {},
     "output_type": "execute_result"
    }
   ],
   "source": [
    "1 + 2 + 3 + 4 + 5"
   ]
  },
  {
   "cell_type": "markdown",
   "id": "injured-duncan",
   "metadata": {},
   "source": [
    "### Exercice 2\n",
    "\n",
    "Écrire une version récursive terminale de la fonction ```sommeJusqua(n)``` de l'exercice 1."
   ]
  },
  {
   "cell_type": "code",
   "execution_count": 12,
   "id": "indie-eleven",
   "metadata": {},
   "outputs": [],
   "source": [
    "def sommeJusqua(n):\n",
    "    return sommeJusqua_h(n,1)\n",
    "\n",
    "def sommeJusqua_h(n, a):\n",
    "    if (n==1):  # on suppose n>=1\n",
    "        return a        # on pourrait avoir ici a+1 et sommeJusqua_h(n,0) dans la fonction sommeJusqua(n) \n",
    "    else:\n",
    "        b = a + n       #la somme se fait avant l'appel récursif\n",
    "        return sommeJusqua_h(n-1, b)"
   ]
  },
  {
   "cell_type": "code",
   "execution_count": 13,
   "id": "corporate-california",
   "metadata": {},
   "outputs": [
    {
     "data": {
      "text/plain": [
       "15"
      ]
     },
     "execution_count": 13,
     "metadata": {},
     "output_type": "execute_result"
    }
   ],
   "source": [
    "sommeJusqua(5)"
   ]
  },
  {
   "cell_type": "markdown",
   "id": "certain-shade",
   "metadata": {},
   "source": [
    "### Exercice 3\n",
    "Écrire une fonction récursive ```contient(liste, e)``` qui retourne True si la liste contient l'élément e, sinon False.\n",
    "\n",
    "**Étape 1**: facteur de complexité: la longueur de la liste. On écrit la fonction pour des listes de 0, 1, 2 éléments."
   ]
  },
  {
   "cell_type": "code",
   "execution_count": 14,
   "id": "radio-poultry",
   "metadata": {},
   "outputs": [],
   "source": [
    "def contient_0(liste, e): # on suppose liste =[]\n",
    "    return false\n",
    "\n",
    "def contient_1(liste, e): # on suppose liste de longueur 1:\n",
    "    if(liste[0]==e):\n",
    "        return True\n",
    "    return False\n",
    "\n",
    "def contient_2(liste, e): # on suppose liste de longueur 2:\n",
    "    if(liste[0]==e):\n",
    "        return True\n",
    "    elif(liste[1]==e):\n",
    "        return True\n",
    "    return False"
   ]
  },
  {
   "cell_type": "markdown",
   "id": "editorial-denial",
   "metadata": {},
   "source": [
    "**Étape 2**: on écrit contient_n en fonction de contient_n-1"
   ]
  },
  {
   "cell_type": "code",
   "execution_count": 15,
   "id": "selective-spell",
   "metadata": {},
   "outputs": [],
   "source": [
    "def contient_0(liste, e): # on suppose liste =[]\n",
    "    return False\n",
    "\n",
    "def contient_1(liste, e): # on suppose liste de longueur 1:\n",
    "    if(liste[0]==e):\n",
    "        return True\n",
    "    return contient_0(liste[1:], e) #appel récursif sur liste[1:] (\"tail\")\n",
    "\n",
    "def contient_2(liste, e): # on suppose liste de longueur 2:\n",
    "    if(liste[0]==e):\n",
    "        return True\n",
    "    return contient_1(liste[1:], e)  \n",
    "#    elif(liste[1]==e):    # liste[1] est le premier élément de liste[1:] alors ces trois lignes \n",
    "#        return True       # correspondent parfaitement à contient_1\n",
    "#    return False"
   ]
  },
  {
   "cell_type": "markdown",
   "id": "adopted-twenty",
   "metadata": {},
   "source": [
    "**Étape 3**:"
   ]
  },
  {
   "cell_type": "code",
   "execution_count": 19,
   "id": "quarterly-tradition",
   "metadata": {},
   "outputs": [],
   "source": [
    "def contient(liste, e): \n",
    "    if(liste==[]):#cas de base: liste vide\n",
    "        return False\n",
    "    if(liste[0]==e):\n",
    "        return True\n",
    "    return contient(liste[1:], e) #appel récursif sur liste[1:] (\"tail\")\n"
   ]
  },
  {
   "cell_type": "code",
   "execution_count": 20,
   "id": "incoming-madagascar",
   "metadata": {},
   "outputs": [
    {
     "data": {
      "text/plain": [
       "True"
      ]
     },
     "execution_count": 20,
     "metadata": {},
     "output_type": "execute_result"
    }
   ],
   "source": [
    "contient([2, 5, 8, 0, 5], 8)"
   ]
  },
  {
   "cell_type": "markdown",
   "id": "promising-headquarters",
   "metadata": {},
   "source": [
    "### Exercice 4\n",
    "\n",
    "Écrire une fonction récursive ```elementsPairs(liste)``` qui prend en entrée une liste de nombres entiers positifs et retourne le nombre d'éléments de la liste qui sont pairs. Exemple: ```elementsPairs([7, 14, 2, 0, 39])``` retourne 3.\n",
    "\n",
    "**Étape 1**"
   ]
  },
  {
   "cell_type": "code",
   "execution_count": 21,
   "id": "laden-masters",
   "metadata": {},
   "outputs": [],
   "source": [
    "def elementsPairs_vide(liste): # on suppose liste =[]\n",
    "    return 0\n",
    "\n",
    "def elementsPairs_1(liste): # on suppose liste de longueur 1:\n",
    "    if(liste[0]%2==0):\n",
    "        return 1\n",
    "    return 0\n",
    "\n",
    "def elementsPairs_2(liste): # on suppose liste de longueur 2:\n",
    "    compte =0\n",
    "    if(liste[0]%2==0):\n",
    "        compte = 1\n",
    "    if(liste[1]%2==0):\n",
    "        return compte+1\n",
    "    return compte"
   ]
  },
  {
   "cell_type": "markdown",
   "id": "disturbed-journalist",
   "metadata": {},
   "source": [
    "**Étape 2**"
   ]
  },
  {
   "cell_type": "code",
   "execution_count": 22,
   "id": "balanced-corps",
   "metadata": {},
   "outputs": [],
   "source": [
    "def elementsPairs_vide(liste): # on suppose liste =[]\n",
    "    return 0\n",
    "\n",
    "def elementsPairs_1(liste): # on suppose liste de longueur 1:\n",
    "    compte = 0\n",
    "    if(liste[0]%2==0):\n",
    "        compte = 1\n",
    "    return compte + elementsPairs_vide(liste[1:]) #liste[1:] est vide\n",
    "\n",
    "def elementsPairs_2(liste): # on suppose liste de longueur 2:\n",
    "    compte =0\n",
    "    if(liste[0]%2==0):\n",
    "        compte = 1\n",
    "    return compte + elementsPairs_1(liste[1:]) #liste[1:] est de longueur 1"
   ]
  },
  {
   "cell_type": "markdown",
   "id": "limiting-longer",
   "metadata": {},
   "source": [
    "**Étape 3**"
   ]
  },
  {
   "cell_type": "code",
   "execution_count": 24,
   "id": "demonstrated-oliver",
   "metadata": {},
   "outputs": [],
   "source": [
    "def elementsPairs(liste): # on suppose liste de longueur 1:\n",
    "    compte = 0\n",
    "    if(liste[0]%2==0):\n",
    "        compte = 1\n",
    "    return compte + elementsPairs(liste[1:]) "
   ]
  },
  {
   "cell_type": "markdown",
   "id": "manufactured-lighter",
   "metadata": {},
   "source": [
    "### Exercice 5\n",
    "\n",
    "**5.1**\n",
    "Écrire une fonction récursive ```maxR``` qui trouve la valeur maximale d'une liste de nombres."
   ]
  },
  {
   "cell_type": "code",
   "execution_count": 25,
   "id": "conservative-credits",
   "metadata": {},
   "outputs": [],
   "source": [
    "def maxR(liste):\n",
    "    if (len(liste)==1):\n",
    "        return liste[0]\n",
    "    else:\n",
    "        return max(liste[0], maxR(liste[1:]))"
   ]
  },
  {
   "cell_type": "markdown",
   "id": "partial-roberts",
   "metadata": {},
   "source": [
    "**5.2**\n",
    "Écrire une version récursive terminale ```maxRT``` qui trouve la valeur maximale en utilisant un mécanisme récursif terminal."
   ]
  },
  {
   "cell_type": "code",
   "execution_count": 26,
   "id": "encouraging-original",
   "metadata": {},
   "outputs": [],
   "source": [
    "def maxRT(liste):\n",
    "    return maxRTH(liste, liste[0])\n",
    "\n",
    "def maxRTH(liste, a):\n",
    "    if (len(liste)==1):\n",
    "        return max(liste[0], a)\n",
    "    else:\n",
    "        b = max(liste[0], a) \n",
    "        return maxRTH(liste[1:], b)"
   ]
  },
  {
   "cell_type": "code",
   "execution_count": 27,
   "id": "governing-planning",
   "metadata": {},
   "outputs": [
    {
     "data": {
      "text/plain": [
       "9"
      ]
     },
     "execution_count": 27,
     "metadata": {},
     "output_type": "execute_result"
    }
   ],
   "source": [
    "maxRT([4, 6, -1, 0, 9, 0, 5])"
   ]
  },
  {
   "cell_type": "markdown",
   "id": "protecting-hamburg",
   "metadata": {},
   "source": [
    "## Map - Reduce - Filter\n",
    "\n"
   ]
  },
  {
   "cell_type": "markdown",
   "id": "agricultural-april",
   "metadata": {},
   "source": [
    "### Exercice 1\n",
    "On définit une fonction ```carre``` comme suit:"
   ]
  },
  {
   "cell_type": "code",
   "execution_count": 28,
   "id": "bridal-american",
   "metadata": {},
   "outputs": [],
   "source": [
    "def carre(x):\n",
    "    return x*x"
   ]
  },
  {
   "cell_type": "markdown",
   "id": "stable-forward",
   "metadata": {},
   "source": [
    "On exécute ensuite les instructions suivantes:"
   ]
  },
  {
   "cell_type": "code",
   "execution_count": 29,
   "id": "general-millennium",
   "metadata": {},
   "outputs": [],
   "source": [
    "nombres = [1, 2, 5, 10]\n",
    "\n",
    "resultat = map(carre, nombres)"
   ]
  },
  {
   "cell_type": "markdown",
   "id": "baking-minute",
   "metadata": {},
   "source": [
    "Quel est le contenu de la liste ```resultat```?"
   ]
  },
  {
   "cell_type": "code",
   "execution_count": 32,
   "id": "cognitive-darkness",
   "metadata": {},
   "outputs": [
    {
     "data": {
      "text/plain": [
       "[1, 4, 25, 100]"
      ]
     },
     "execution_count": 32,
     "metadata": {},
     "output_type": "execute_result"
    }
   ],
   "source": [
    "list(resultat)"
   ]
  },
  {
   "cell_type": "markdown",
   "id": "above-medication",
   "metadata": {},
   "source": [
    "### Exercice 2\n",
    "\n",
    "On définit les listes ```entree``` et ```sortie``` comme suit:"
   ]
  },
  {
   "cell_type": "code",
   "execution_count": 30,
   "id": "concrete-benjamin",
   "metadata": {},
   "outputs": [],
   "source": [
    "entree = ['rouge' , 'bleu',  'vert', 'noir']\n",
    "sortie = ['ro', 'bl', 've', 'no']"
   ]
  },
  {
   "cell_type": "markdown",
   "id": "amazing-shock",
   "metadata": {},
   "source": [
    "Définir une fonction ```f``` telle que ```sortie = map(f, entree)```."
   ]
  },
  {
   "cell_type": "code",
   "execution_count": 34,
   "id": "clinical-sight",
   "metadata": {},
   "outputs": [
    {
     "data": {
      "text/plain": [
       "['ro', 'bl', 've', 'no']"
      ]
     },
     "execution_count": 34,
     "metadata": {},
     "output_type": "execute_result"
    }
   ],
   "source": [
    "f = lambda s: s[:2]\n",
    "list(map(f,entree))"
   ]
  },
  {
   "cell_type": "markdown",
   "id": "patient-product",
   "metadata": {},
   "source": [
    "### Exercice 3\n",
    "Soit la fonction ```courte``` définie comme suit:"
   ]
  },
  {
   "cell_type": "code",
   "execution_count": 4,
   "id": "armed-clarity",
   "metadata": {},
   "outputs": [],
   "source": [
    "def courte(d):\n",
    "    return len(d)<2"
   ]
  },
  {
   "cell_type": "markdown",
   "id": "affected-owner",
   "metadata": {},
   "source": [
    "On exécute le code suivant:"
   ]
  },
  {
   "cell_type": "code",
   "execution_count": 5,
   "id": "humanitarian-intro",
   "metadata": {},
   "outputs": [],
   "source": [
    "liliste = [ [1, 3, 5], [], [4], [6, 7, 6], [3, 1], []]\n",
    "liste_c = filter(courte, liliste)"
   ]
  },
  {
   "cell_type": "markdown",
   "id": "usual-anniversary",
   "metadata": {},
   "source": [
    "Quel sera le contenu de la liste ```liste_c```?"
   ]
  },
  {
   "cell_type": "code",
   "execution_count": 6,
   "id": "coral-coordinate",
   "metadata": {},
   "outputs": [
    {
     "data": {
      "text/plain": [
       "[[], [4], []]"
      ]
     },
     "execution_count": 6,
     "metadata": {},
     "output_type": "execute_result"
    }
   ],
   "source": [
    "list(liste_c)"
   ]
  },
  {
   "cell_type": "markdown",
   "id": "neural-extreme",
   "metadata": {},
   "source": [
    "### Exercice 4\n",
    "\n",
    "On a une liste de nombres entiers ```nombres2```, et on veut obtenir dans une nouvelle liste ```pairs2``` les nombres pairs de ```nombres2```.\n",
    "Écrire le code pour obtenir ```pairs2``` à partir de ```nombres2``` en utilisant une opération ```filter``` avec une fonction à définir."
   ]
  },
  {
   "cell_type": "code",
   "execution_count": 36,
   "id": "inner-holocaust",
   "metadata": {},
   "outputs": [
    {
     "data": {
      "text/plain": [
       "[4, 10, 0, 2]"
      ]
     },
     "execution_count": 36,
     "metadata": {},
     "output_type": "execute_result"
    }
   ],
   "source": [
    "nombres2 = [3, 4, 5, 9, 10, 0, 2, 1]\n",
    "pairs2 = filter(lambda n:n%2==0, nombres2)\n",
    "list(pairs2)"
   ]
  },
  {
   "cell_type": "markdown",
   "id": "bearing-terrorism",
   "metadata": {},
   "source": [
    "### Exercice 5\n",
    "\n",
    "On définit une fonction ```plusCourt``` qui prend en entrée deux chaines de caractères et retourne la plus courte:"
   ]
  },
  {
   "cell_type": "code",
   "execution_count": 38,
   "id": "collected-dressing",
   "metadata": {},
   "outputs": [],
   "source": [
    "def plusCourt(s1, s2):\n",
    "    if(len(s1)<len(s2)):\n",
    "        return s1\n",
    "    return s2"
   ]
  },
  {
   "cell_type": "markdown",
   "id": "equivalent-acting",
   "metadata": {},
   "source": [
    "Si on applique une opération ```reduce(plusCourt, mots)``` où ```mots``` est la liste de mots de l'exemple ci-dessus, quel sera le résultat?"
   ]
  },
  {
   "cell_type": "code",
   "execution_count": 39,
   "id": "favorite-diamond",
   "metadata": {},
   "outputs": [
    {
     "data": {
      "text/plain": [
       "'en'"
      ]
     },
     "execution_count": 39,
     "metadata": {},
     "output_type": "execute_result"
    }
   ],
   "source": [
    "from functools import reduce\n",
    "\n",
    "mots = ['mon', 'ami', 'Antoine', 'habite', 'en', 'Chine']\n",
    "reduce(plusCourt, mots)"
   ]
  },
  {
   "cell_type": "markdown",
   "id": "appreciated-behavior",
   "metadata": {},
   "source": [
    "### Exercice 6\n",
    "\n",
    "On définit ci-dessous la fonction ```compresse``` qui s'applique à des tuples, et retourne un tuple de deux éléments:"
   ]
  },
  {
   "cell_type": "code",
   "execution_count": 40,
   "id": "younger-estonia",
   "metadata": {},
   "outputs": [],
   "source": [
    "def compresse(t1, t2):\n",
    "    return (t1[0], t2[-1]) # l'indice -1 se réfère au dernier élément du tuple"
   ]
  },
  {
   "cell_type": "markdown",
   "id": "similar-honolulu",
   "metadata": {},
   "source": [
    "Quel sera le résultat de l'opération ```reduce(compresse, [(0,10), (3, 4), (9, 0), (7,7)])```?"
   ]
  },
  {
   "cell_type": "code",
   "execution_count": 41,
   "id": "vietnamese-spray",
   "metadata": {},
   "outputs": [
    {
     "data": {
      "text/plain": [
       "(0, 7)"
      ]
     },
     "execution_count": 41,
     "metadata": {},
     "output_type": "execute_result"
    }
   ],
   "source": [
    "reduce(compresse, [(0,10), (3, 4), (9, 0), (7,7)])"
   ]
  },
  {
   "cell_type": "markdown",
   "id": "classified-dryer",
   "metadata": {},
   "source": [
    "### Exercice 7\n",
    "\n",
    "On suppose qu'on a une liste de booléens ```listeb```.\n",
    "\n",
    "1. Définir une fonction ```f_tous``` telle que  ```reduce(f_tous, listeb)``` donne ```True``` si _tous les éléments_ de ```listeb``` sont ```True```.\n",
    "\n",
    "2. Définir une fonction ```f_un``` telle que  ```reduce(f_un, listeb)``` donne ```True``` si la liste ```liste_b``` contient _au moins un_ ```True```."
   ]
  },
  {
   "cell_type": "code",
   "execution_count": 42,
   "id": "thousand-cause",
   "metadata": {},
   "outputs": [],
   "source": [
    "def f_tous(b1, b2):\n",
    "    return (b1 and b2)"
   ]
  },
  {
   "cell_type": "code",
   "execution_count": 43,
   "id": "third-violence",
   "metadata": {},
   "outputs": [
    {
     "data": {
      "text/plain": [
       "True"
      ]
     },
     "execution_count": 43,
     "metadata": {},
     "output_type": "execute_result"
    }
   ],
   "source": [
    "reduce(f_tous, [True,True, True, True])"
   ]
  },
  {
   "cell_type": "code",
   "execution_count": 44,
   "id": "innocent-smoke",
   "metadata": {},
   "outputs": [
    {
     "data": {
      "text/plain": [
       "False"
      ]
     },
     "execution_count": 44,
     "metadata": {},
     "output_type": "execute_result"
    }
   ],
   "source": [
    "reduce(f_tous, [True, False, True, False, True])"
   ]
  },
  {
   "cell_type": "code",
   "execution_count": 45,
   "id": "tracked-johnson",
   "metadata": {},
   "outputs": [],
   "source": [
    "def f_un(b1, b2):\n",
    "    return (b1 or b2)"
   ]
  },
  {
   "cell_type": "code",
   "execution_count": 47,
   "id": "structured-walter",
   "metadata": {},
   "outputs": [
    {
     "data": {
      "text/plain": [
       "False"
      ]
     },
     "execution_count": 47,
     "metadata": {},
     "output_type": "execute_result"
    }
   ],
   "source": [
    "reduce(f_un, [False, False, False, False])"
   ]
  },
  {
   "cell_type": "code",
   "execution_count": 48,
   "id": "distributed-twenty",
   "metadata": {},
   "outputs": [
    {
     "data": {
      "text/plain": [
       "True"
      ]
     },
     "execution_count": 48,
     "metadata": {},
     "output_type": "execute_result"
    }
   ],
   "source": [
    "reduce(f_un, [True, False, True, False, True])"
   ]
  },
  {
   "cell_type": "markdown",
   "id": "circular-ideal",
   "metadata": {},
   "source": [
    "## Fonctions de première classe\n",
    "\n",
    "\n",
    "### Exercice 1\n",
    "\n",
    "Parmi les expression lambda suivantes, lesquelles sont valides?\n",
    "\n",
    "```lambda x + y: x``` => non\n",
    "\n",
    "```lambda x: x``` => oui\n",
    "\n",
    "```lambda 5``` => non\n",
    "\n",
    "```lambda z: x``` => oui si x est défini avant\n",
    "\n",
    "```lambda x, y: 3``` => oui\n",
    "\n",
    "```lambda x, y: return x + 1``` => non\n"
   ]
  },
  {
   "cell_type": "markdown",
   "id": "ranging-radius",
   "metadata": {},
   "source": [
    "### Exercice 2\n",
    "\n",
    "Écrire une expression lambda équivalente à la fonction suivante:\n",
    "```\n",
    "def celcius(fahrenheit):\n",
    "    return (fahrenheit-32) * 5/9\n",
    "```"
   ]
  },
  {
   "cell_type": "code",
   "execution_count": 54,
   "id": "biblical-advertising",
   "metadata": {},
   "outputs": [
    {
     "data": {
      "text/plain": [
       "37.77777777777778"
      ]
     },
     "execution_count": 54,
     "metadata": {},
     "output_type": "execute_result"
    }
   ],
   "source": [
    "celcius = lambda fahrenheit: (fahrenheit-32)* 5/9\n",
    "celcius(100)"
   ]
  },
  {
   "cell_type": "markdown",
   "id": "educated-briefs",
   "metadata": {},
   "source": [
    "### Exercice 3\n",
    "Écrire sous la forme d'une expression lambda une fonction qui prend en entrée une chaine de caractères et retourne le premier caractère."
   ]
  },
  {
   "cell_type": "code",
   "execution_count": 55,
   "id": "manual-sequence",
   "metadata": {},
   "outputs": [],
   "source": [
    "premier = lambda s: s[0]"
   ]
  },
  {
   "cell_type": "code",
   "execution_count": 56,
   "id": "historical-clear",
   "metadata": {},
   "outputs": [
    {
     "data": {
      "text/plain": [
       "'h'"
      ]
     },
     "execution_count": 56,
     "metadata": {},
     "output_type": "execute_result"
    }
   ],
   "source": [
    "premier(\"hello\")"
   ]
  },
  {
   "cell_type": "markdown",
   "id": "first-fifteen",
   "metadata": {},
   "source": [
    "Comme la partie droite d'une expression lambda doit être une expression (et ne pas comporter d'instructions), en particulier on ne peut utiliser d'instructions conditionnelles. On peut, cependant, utiliser une _expression_ conditionnelle.\n",
    "\n",
    "Par exemple, l'expression lambda suivante retourne le plus grand de ses deux paramètres:\n",
    "\n",
    "```\n",
    "lambda x, y: x if (x>y) else y\n",
    "```"
   ]
  },
  {
   "cell_type": "markdown",
   "id": "promising-frame",
   "metadata": {},
   "source": [
    "### Exercice 4\n",
    "\n",
    "Écrire une expression lambda équivalente à la fonction _valeur absolue_."
   ]
  },
  {
   "cell_type": "code",
   "execution_count": 57,
   "id": "dominant-preservation",
   "metadata": {},
   "outputs": [],
   "source": [
    "absolue = lambda a: a if a>=0 else -a"
   ]
  },
  {
   "cell_type": "code",
   "execution_count": 58,
   "id": "continuing-china",
   "metadata": {},
   "outputs": [
    {
     "data": {
      "text/plain": [
       "14"
      ]
     },
     "execution_count": 58,
     "metadata": {},
     "output_type": "execute_result"
    }
   ],
   "source": [
    "absolue(-14)"
   ]
  },
  {
   "cell_type": "markdown",
   "id": "distinct-discrimination",
   "metadata": {},
   "source": [
    "### Exercice 5\n",
    "Écrire une fonction lambda équivalente à la fonction ```max```: la fonction prend deux nombres en entrée et retourne le plus grand des deux (utiliser une expression conditionnelle)."
   ]
  },
  {
   "cell_type": "code",
   "execution_count": 59,
   "id": "identical-accident",
   "metadata": {},
   "outputs": [],
   "source": [
    "mmax = lambda a,b: a if a>b else b"
   ]
  },
  {
   "cell_type": "code",
   "execution_count": 60,
   "id": "phantom-camping",
   "metadata": {},
   "outputs": [
    {
     "data": {
      "text/plain": [
       "9"
      ]
     },
     "execution_count": 60,
     "metadata": {},
     "output_type": "execute_result"
    }
   ],
   "source": [
    "mmax(5, 9)"
   ]
  },
  {
   "cell_type": "markdown",
   "id": "present-detector",
   "metadata": {},
   "source": [
    "### Exercice 6\n",
    "\n",
    "Écrire une fonction ```pointFixe``` qui prend en entrée une fonction ```f``` et une valeur ```x```, et retourne ```True``` si ```x``` est un point fixe de ```f```, c'est à dire que ```x``` est égal à ```f(x)```."
   ]
  },
  {
   "cell_type": "code",
   "execution_count": 61,
   "id": "elegant-deployment",
   "metadata": {},
   "outputs": [],
   "source": [
    "def pointfixe(f, x):\n",
    "    return x == f(x)"
   ]
  },
  {
   "cell_type": "code",
   "execution_count": 62,
   "id": "affected-meeting",
   "metadata": {},
   "outputs": [
    {
     "data": {
      "text/plain": [
       "True"
      ]
     },
     "execution_count": 62,
     "metadata": {},
     "output_type": "execute_result"
    }
   ],
   "source": [
    "pointfixe(lambda a: a*a, 1)"
   ]
  },
  {
   "cell_type": "markdown",
   "id": "featured-quest",
   "metadata": {},
   "source": [
    "### Exercice 7\n",
    "\n",
    "Écrire une fonction qui prend en entrée un nombre ```n```, et retourne une fonction \"plus grand que n\": cette fonction prend en paramètre un nombre ```z``` et retourne ```True``` si ```z``` est plus grand que ```n```, sinon ```False```.\n",
    "\n",
    "Écrire d'abord la fonction sous la forme d'une fonction définie avec ```def```, avec une autre fonction définie avec ```def``` à l'intérieur, puis sous la forme d'une expression lambda avec une autre expression lambda imbriquée."
   ]
  },
  {
   "cell_type": "code",
   "execution_count": 63,
   "id": "incident-relay",
   "metadata": {},
   "outputs": [],
   "source": [
    "def fonctionPlusGrand(n):\n",
    "    def fn(x):\n",
    "        return x>n\n",
    "    return fn"
   ]
  },
  {
   "cell_type": "markdown",
   "id": "dental-thesaurus",
   "metadata": {},
   "source": [
    "### Exercice 8\n",
    "Écrire une fonction ```compose``` de deux paramètres: cette fonction prend deux fonctions ```f``` et ```g``` en entrée, et retourne la composition de ces deux fonctions, c'est à dire une fonction qui prend en entrée une valeur ```x``` et retourne ```f(g(x))```."
   ]
  },
  {
   "cell_type": "code",
   "execution_count": 65,
   "id": "allied-fifty",
   "metadata": {},
   "outputs": [],
   "source": [
    "def compose(f, g):\n",
    "    return lambda x: f(g(x))"
   ]
  },
  {
   "cell_type": "code",
   "execution_count": 66,
   "id": "narrative-collective",
   "metadata": {},
   "outputs": [
    {
     "data": {
      "text/plain": [
       "5"
      ]
     },
     "execution_count": 66,
     "metadata": {},
     "output_type": "execute_result"
    }
   ],
   "source": [
    "x_carre_plus_un = compose(lambda x:x+1, lambda x: x*x)\n",
    "x_carre_plus_un(2)"
   ]
  },
  {
   "cell_type": "markdown",
   "id": "confused-metro",
   "metadata": {},
   "source": [
    "### Exercice 9\n",
    "Écrire une version CPS de la fonction récursive ```sommeJusqua``` qui fait la somme des entiers jusqu'à un paramètre ```n``` (voir notebook récursivité)."
   ]
  },
  {
   "cell_type": "code",
   "execution_count": 67,
   "id": "clean-characteristic",
   "metadata": {},
   "outputs": [],
   "source": [
    "def somme_jusqua_CPS(n, f):\n",
    "    somme_jusqua_CPS_h(n, 1, f)\n",
    "\n",
    "def somme_jusqua_CPS_h(n, a, f):\n",
    "    if (n==1):\n",
    "        f(a)\n",
    "    else:\n",
    "        somme_jusqua_CPS_h(n-1, a+n, f)"
   ]
  },
  {
   "cell_type": "markdown",
   "id": "neither-seating",
   "metadata": {},
   "source": [
    "### Exercice 10\n",
    "\n",
    "Écrire un décorateur ```@plusfort``` pour des fonctions de zéro, un ou plusieurs paramètres renvoyant un string: la fonction décorée doit retourner le string en majuscules et ajoute un point d'exclamation."
   ]
  },
  {
   "cell_type": "code",
   "execution_count": 68,
   "id": "needed-fourth",
   "metadata": {},
   "outputs": [],
   "source": [
    "def plusfort(f_orig):\n",
    "    def f_modif(*x):    #nombre quelconque de paramètres positionnels\n",
    "        s = f_orig(*x)  \n",
    "        s2 = s.upper() + \"!\" # modification\n",
    "        return s2           \n",
    "    return f_modif"
   ]
  },
  {
   "cell_type": "code",
   "execution_count": 69,
   "id": "amended-sister",
   "metadata": {},
   "outputs": [],
   "source": [
    "@plusfort\n",
    "def comparer(n1, n2):\n",
    "    if (n1>n2):\n",
    "        return str(n1) + \" est plus grand que \"+ str(n2)\n",
    "    else:\n",
    "        return str(n2) + \" est plus grand que \"+ str(n1)"
   ]
  },
  {
   "cell_type": "code",
   "execution_count": 70,
   "id": "transsexual-civilian",
   "metadata": {},
   "outputs": [
    {
     "data": {
      "text/plain": [
       "'10 EST PLUS GRAND QUE 4!'"
      ]
     },
     "execution_count": 70,
     "metadata": {},
     "output_type": "execute_result"
    }
   ],
   "source": [
    "comparer(10, 4)"
   ]
  },
  {
   "cell_type": "markdown",
   "id": "according-source",
   "metadata": {},
   "source": [
    "### Exercice 11\n",
    "Écrire un décorateur de deux paramètres ```delta(eps, f)``` (qu'on n'utilisera pas comme annotation) qui transforme des fonctions d'un seul paramètre (numérique) pour que la fonction décorée retourne 0 si le résultat de la fonction originale est suffisamment proche de zéro (inférieur à ```eps``` en valeur absolue). Si le résultat n'est pas aussi petit, on retourne le résultat original."
   ]
  },
  {
   "cell_type": "code",
   "execution_count": 71,
   "id": "needed-evidence",
   "metadata": {},
   "outputs": [],
   "source": [
    "def delta(eps, f):\n",
    "    def f_modif(x):\n",
    "        y = f(x)\n",
    "        return 0 if (abs(y)<eps) else y\n",
    "    return f_modif"
   ]
  },
  {
   "cell_type": "code",
   "execution_count": 72,
   "id": "liquid-longitude",
   "metadata": {},
   "outputs": [
    {
     "data": {
      "text/plain": [
       "0"
      ]
     },
     "execution_count": 72,
     "metadata": {},
     "output_type": "execute_result"
    }
   ],
   "source": [
    "f_carre_approximatif = delta(0.1, lambda x : x*x)\n",
    "f_carre_approximatif(0.2)"
   ]
  },
  {
   "cell_type": "markdown",
   "id": "sonic-retrieval",
   "metadata": {},
   "source": [
    "### Exercice 12\n",
    "Re-écrire le décorateur de l'exercice 11 pour qu'il puisse être utilisé comme annotation: ```@delta(0.01)```"
   ]
  },
  {
   "cell_type": "code",
   "execution_count": 74,
   "id": "interested-syracuse",
   "metadata": {},
   "outputs": [],
   "source": [
    "def delta(eps):    #cette fonction génère le décorateur simple à partir du paramètre epsilon\n",
    "    def decorateur(f):\n",
    "        def f_modif(x):\n",
    "            y = f(x)\n",
    "            return 0 if (abs(y)<eps) else y\n",
    "        return f_modif\n",
    "    return decorateur"
   ]
  },
  {
   "cell_type": "code",
   "execution_count": 75,
   "id": "pleasant-bullet",
   "metadata": {},
   "outputs": [],
   "source": [
    "@delta(0.01)\n",
    "def cube(x):\n",
    "    return x*x*x"
   ]
  },
  {
   "cell_type": "code",
   "execution_count": 76,
   "id": "about-click",
   "metadata": {},
   "outputs": [
    {
     "data": {
      "text/plain": [
       "0"
      ]
     },
     "execution_count": 76,
     "metadata": {},
     "output_type": "execute_result"
    }
   ],
   "source": [
    "cube(0.1)"
   ]
  },
  {
   "cell_type": "markdown",
   "id": "fifth-prediction",
   "metadata": {},
   "source": [
    "## Générateurs\n",
    "\n",
    "### Exercice 1\n",
    "\n",
    "Écrire un générateur ```caracteres``` qui prend une chaine de caractères en entrée et énumère les caractères la composant."
   ]
  },
  {
   "cell_type": "code",
   "execution_count": 77,
   "id": "several-macintosh",
   "metadata": {},
   "outputs": [],
   "source": [
    "def caracteres(s):\n",
    "    i=0\n",
    "    while(i<len(s)):\n",
    "        yield s[i]\n",
    "        i=i+1"
   ]
  },
  {
   "cell_type": "code",
   "execution_count": 81,
   "id": "identified-apache",
   "metadata": {},
   "outputs": [],
   "source": [
    "g = caracteres(\"hello\")"
   ]
  },
  {
   "cell_type": "code",
   "execution_count": 82,
   "id": "prerequisite-mystery",
   "metadata": {},
   "outputs": [
    {
     "data": {
      "text/plain": [
       "'h'"
      ]
     },
     "execution_count": 82,
     "metadata": {},
     "output_type": "execute_result"
    }
   ],
   "source": [
    "next(g)"
   ]
  },
  {
   "cell_type": "code",
   "execution_count": 83,
   "id": "honey-cancer",
   "metadata": {},
   "outputs": [
    {
     "data": {
      "text/plain": [
       "'e'"
      ]
     },
     "execution_count": 83,
     "metadata": {},
     "output_type": "execute_result"
    }
   ],
   "source": [
    "next(g)"
   ]
  },
  {
   "cell_type": "markdown",
   "id": "generous-member",
   "metadata": {},
   "source": [
    "..."
   ]
  }
 ],
 "metadata": {
  "kernelspec": {
   "display_name": "Python 3",
   "language": "python",
   "name": "python3"
  },
  "language_info": {
   "codemirror_mode": {
    "name": "ipython",
    "version": 3
   },
   "file_extension": ".py",
   "mimetype": "text/x-python",
   "name": "python",
   "nbconvert_exporter": "python",
   "pygments_lexer": "ipython3",
   "version": "3.9.1"
  }
 },
 "nbformat": 4,
 "nbformat_minor": 5
}
