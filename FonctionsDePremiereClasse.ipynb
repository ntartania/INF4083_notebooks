{
 "cells": [
  {
   "cell_type": "markdown",
   "id": "economic-decade",
   "metadata": {},
   "source": [
    "# Fonctions de première classe\n",
    "\n",
    "Dans un langage de programmation, on dit que les fonctions sont des **objets de première classe** si on peut faire les choses suivantes:\n",
    "* Définir une nouvelle fonction pendant l'exécution du programme\n",
    "* Définir une variable qui se réfère à une fonction\n",
    "* Passer une fonction en paramètre d'une autre fonction\n",
    "* Retourner une fonction en sortie d'une autre fonction\n",
    "\n",
    "Dans les langages de programmation fonctionnels, les fonctions sont des objets de première classe. C'est aussi le cas dans plusieurs langages multi-paradigmes comme Python, et en Java on trouve aussi des mécanismes qui permettent d'accomplir à peu près les mêmes choses dans une approche orientée-objet. \n",
    "\n",
    "## Expressions lambda\n",
    "\n",
    "Le principal mécanisme qui permet de créer de nouvelles fonctions est le concept d'**expression lambda**.\n",
    "\n",
    "En mathématiques, il existe une notation très simple pour définir une fonction, avec une petite flèche ($\\mapsto $): par exemple, une fonction $f$ qui associe à chaque nombre son carré est la fonction $f: x \\mapsto x^2$. On peut même définir la fonction de manière anonyme, juste en écrivant $x \\mapsto x^2$. En lambda-calcul, l'équivalent de cette notation serait $\\lambda x.x^2$.\n",
    "\n",
    "Dans de nombreux langages de programmation, on peut définir des fonctions avec des notations semblables, habituellement avec une flèche ou le mot-clé **lambda**.\n",
    "\n",
    "En Java on écrirait ```x -> x*x```, et en Python on écrit ```lambda x: x*x```.\n",
    "Dans la suite on va utiliser seulement la notation Python.\n",
    "\n",
    "Précisément, la syntaxe d'une expression lambda est la suivante:\n",
    "\n",
    "```lambda``` **\\[paramètres\\]** ```:``` **\\[expression\\]**\n",
    "\n",
    "Il peut y avoir zéro, un, ou plusieurs paramètres séparés par des virgules, et l'expression qui suit le deux-points est la **valeur retournée par la fonction**: il ne peut y avoir ici aucune instruction, et on n'utilise pas de mot-clé ```return```.\n",
    "\n",
    "Les expressions lambda suivantes sont des exemples d'expressions valides:\n",
    "\n",
    "```lambda x: x*x```:     cette fonction retourne le carré du nombre qu'on lui passe en paramètre\n",
    "\n",
    "```lambda: 5```: cette fonction ne prend pas de paramètre, et retourne toujours le nombre 5\n",
    "\n",
    "```lambda x, y, z: x + y + z```: cette fonction de trois paramètre retourne la somme des trois paramètres."
   ]
  },
  {
   "cell_type": "markdown",
   "id": "circular-ideal",
   "metadata": {},
   "source": [
    "#### Exercice 1\n",
    "\n",
    "Parmi les expression lambda suivantes, lesquelles sont valides?\n",
    "\n",
    "```lambda x + y: x```\n",
    "\n",
    "```lambda x: x```\n",
    "\n",
    "```lambda 5```\n",
    "\n",
    "```lambda z: x```\n",
    "\n",
    "```lambda x, y: 3```\n",
    "\n",
    "```lambda x, y: return x + 1```\n"
   ]
  },
  {
   "cell_type": "markdown",
   "id": "ranging-radius",
   "metadata": {},
   "source": [
    "#### Exercice 2\n",
    "Écrire une expression lambda équivalente à la fonction suivante:\n",
    "```\n",
    "def celcius(fahrenheit):\n",
    "    return (fahrenheit - 32) * 5/9\n",
    "```"
   ]
  },
  {
   "cell_type": "code",
   "execution_count": null,
   "id": "biblical-advertising",
   "metadata": {},
   "outputs": [],
   "source": []
  },
  {
   "cell_type": "markdown",
   "id": "educated-briefs",
   "metadata": {},
   "source": [
    "#### Exercice 3\n",
    "Écrire sous la forme d'une expression lambda une fonction qui prend en entrée une chaine de caractères et retourne le premier caractère."
   ]
  },
  {
   "cell_type": "code",
   "execution_count": null,
   "id": "manual-sequence",
   "metadata": {},
   "outputs": [],
   "source": []
  },
  {
   "cell_type": "markdown",
   "id": "first-fifteen",
   "metadata": {},
   "source": [
    "Comme la partie droite d'une expression lambda doit être une expression (et ne pas comporter d'instructions), en particulier on ne peut utiliser d'instructions conditionnelles. On peut, cependant, utiliser une _expression_ conditionnelle.\n",
    "\n",
    "Par exemple, l'expression lambda suivante retourne le plus grand de ses deux paramètres:\n",
    "\n",
    "```\n",
    "lambda x, y: x if (x>y) else y\n",
    "```"
   ]
  },
  {
   "cell_type": "markdown",
   "id": "promising-frame",
   "metadata": {},
   "source": [
    "#### Exercice 4\n",
    "\n",
    "Écrire une expression lambda équivalente à la fonction _valeur absolue_."
   ]
  },
  {
   "cell_type": "code",
   "execution_count": null,
   "id": "dominant-preservation",
   "metadata": {},
   "outputs": [],
   "source": []
  },
  {
   "cell_type": "markdown",
   "id": "special-block",
   "metadata": {},
   "source": [
    "### Valeurs et variables de type fonction\n",
    "Une expression lambda est une _valeur_ de type _fonction_. On peut donner cette valeur à une variable, comme ceci:"
   ]
  },
  {
   "cell_type": "code",
   "execution_count": 1,
   "id": "living-excuse",
   "metadata": {},
   "outputs": [],
   "source": [
    "f = lambda x:x*x"
   ]
  },
  {
   "cell_type": "markdown",
   "id": "gorgeous-hands",
   "metadata": {},
   "source": [
    "```f``` est maintenant une fonction, qu'on peut utiliser de la même fonction que si on l'avait définie avec le mot-clé ```def```:"
   ]
  },
  {
   "cell_type": "code",
   "execution_count": 3,
   "id": "healthy-understanding",
   "metadata": {},
   "outputs": [
    {
     "name": "stdout",
     "output_type": "stream",
     "text": [
      "25\n"
     ]
    }
   ],
   "source": [
    "y = f(5)\n",
    "print(y)"
   ]
  },
  {
   "cell_type": "markdown",
   "id": "specific-asbestos",
   "metadata": {},
   "source": [
    "Cependant, ```f``` est ici une variable locale: on peut modifier cette variable ```f``` ou copier sa valeur vers une autre variable:"
   ]
  },
  {
   "cell_type": "code",
   "execution_count": 4,
   "id": "preceding-palestine",
   "metadata": {},
   "outputs": [],
   "source": [
    "g = f\n",
    "f = lambda x: 2 * x"
   ]
  },
  {
   "cell_type": "markdown",
   "id": "occupied-advisory",
   "metadata": {},
   "source": [
    "```g``` est maintenant la fonction $x \\mapsto x^2$, alors que ```f``` est maintenant la fonction $x \\mapsto 2x$:"
   ]
  },
  {
   "cell_type": "code",
   "execution_count": 5,
   "id": "similar-vocabulary",
   "metadata": {},
   "outputs": [
    {
     "data": {
      "text/plain": [
       "36"
      ]
     },
     "execution_count": 5,
     "metadata": {},
     "output_type": "execute_result"
    }
   ],
   "source": [
    "g(6)"
   ]
  },
  {
   "cell_type": "code",
   "execution_count": 6,
   "id": "apparent-hudson",
   "metadata": {},
   "outputs": [
    {
     "data": {
      "text/plain": [
       "12"
      ]
     },
     "execution_count": 6,
     "metadata": {},
     "output_type": "execute_result"
    }
   ],
   "source": [
    "f(6)"
   ]
  },
  {
   "cell_type": "markdown",
   "id": "eastern-mechanics",
   "metadata": {},
   "source": [
    "En utilisant des expressions lambda, on peut exprimer n'importe quelle fonction. Cependant, l'écriture de la fonction doit tenir en une seule ligne, et la partie droite (après le ```:```) doit être une expression uniquement. Par conséquent, cette forme est appropriée pour des fonctions très simples."
   ]
  },
  {
   "cell_type": "markdown",
   "id": "integral-breeding",
   "metadata": {},
   "source": [
    "### Expression lambda pour des fonctions de plusieurs paramètres\n",
    "\n",
    "Les expressions lambda ci-dessus étaient écrites pour des fonctions d'un seul paramètre.\n",
    "La même syntaxe peut être utilisée pour des fonctions de plusieurs paramètres. \n",
    "\n",
    "Par exemple, la fonction suivante peut être écrite sous forme d'un lambda:"
   ]
  },
  {
   "cell_type": "code",
   "execution_count": 13,
   "id": "motivated-miniature",
   "metadata": {},
   "outputs": [],
   "source": [
    "def somme(x, y):\n",
    "    return x + y"
   ]
  },
  {
   "cell_type": "code",
   "execution_count": 14,
   "id": "normal-cyprus",
   "metadata": {},
   "outputs": [],
   "source": [
    "somme = lambda x, y: x+y"
   ]
  },
  {
   "cell_type": "markdown",
   "id": "sealed-avatar",
   "metadata": {},
   "source": [
    "Les différents paramètres sont listés après le mot-clé ```lambda```, et séparés par des virgules. Le corps de la fonction commence après le deux-points."
   ]
  },
  {
   "cell_type": "markdown",
   "id": "broadband-zambia",
   "metadata": {},
   "source": [
    "#### Exercice 5\n",
    "Écrire une fonction lambda équivalente à la fonction ```max```: la fonction prend deux nombres en entrée et retourne le plus grand des deux (utiliser une expression conditionnelle)."
   ]
  },
  {
   "cell_type": "code",
   "execution_count": null,
   "id": "billion-portable",
   "metadata": {},
   "outputs": [],
   "source": []
  },
  {
   "cell_type": "markdown",
   "id": "subject-lindsay",
   "metadata": {},
   "source": [
    "## Fonctions d'ordre supérieur\n",
    "\n",
    "Une **fonction d'ordre supérieur** est une fonction qui prend en entrée une autre fonction, ou bien qui renvoie une autre fonction comme valeur de retour.\n",
    "\n",
    "### Fonctions qui prennent d'autres fonctions en entrée\n",
    "Commençons par les fonctions qui prennent d'autres fonctions en entrée.\n",
    "\n",
    "Un exemple d'une telle fonction est la fonction ```sorted()```: cette fonction prend en paramètre une liste, et un paramètre optionnel nommé ```key```, une fonction qui indique comment trier la liste. \n",
    "\n",
    "Sans le paramètre ```key```, la liste est triée en ordre croissant, dans l'ordre défini par l'opérateur ```<```:"
   ]
  },
  {
   "cell_type": "code",
   "execution_count": 9,
   "id": "conservative-given",
   "metadata": {},
   "outputs": [
    {
     "data": {
      "text/plain": [
       "[-9, -7, -1, 2, 4, 5, 10, 18]"
      ]
     },
     "execution_count": 9,
     "metadata": {},
     "output_type": "execute_result"
    }
   ],
   "source": [
    "sorted([2, -7, 5, 4, -9, -1, 18, 10])"
   ]
  },
  {
   "cell_type": "code",
   "execution_count": 8,
   "id": "fifty-divorce",
   "metadata": {},
   "outputs": [
    {
     "data": {
      "text/plain": [
       "['bananes', 'fraises', 'pommes', 'rhubarbe']"
      ]
     },
     "execution_count": 8,
     "metadata": {},
     "output_type": "execute_result"
    }
   ],
   "source": [
    "sorted([\"pommes\", \"bananes\", \"fraises\", \"rhubarbe\"])"
   ]
  },
  {
   "cell_type": "markdown",
   "id": "selective-racing",
   "metadata": {},
   "source": [
    "(```<``` appliqué à deux strings reflète l'ordre alphabétique)"
   ]
  },
  {
   "cell_type": "markdown",
   "id": "sharing-indie",
   "metadata": {},
   "source": [
    "Si on passe un paramètre ```key```, ce paramètre doit être une fonction, et les éléments de la liste sont triés dans l'ordre de leur \"image\" par la fonction. Par exemple, si la fonction passée en paramètre est la fonction valeur absolue ($x \\mapsto |x|$), alors les nombres seront triés selon leur valeur absolue. En Python, la fonction valeur absolue est nommée ```abs```:"
   ]
  },
  {
   "cell_type": "code",
   "execution_count": 10,
   "id": "premium-concept",
   "metadata": {},
   "outputs": [
    {
     "data": {
      "text/plain": [
       "8"
      ]
     },
     "execution_count": 10,
     "metadata": {},
     "output_type": "execute_result"
    }
   ],
   "source": [
    "abs(-8)"
   ]
  },
  {
   "cell_type": "markdown",
   "id": "awful-miami",
   "metadata": {},
   "source": [
    "Pour passer la fonction ```abs``` en paramètre de ```sorted```, on fait comme pour n'importe quel autre paramètre d'un autre type:"
   ]
  },
  {
   "cell_type": "code",
   "execution_count": 11,
   "id": "obvious-conviction",
   "metadata": {},
   "outputs": [
    {
     "data": {
      "text/plain": [
       "[-1, 2, 4, 5, -7, -9, 10, 18]"
      ]
     },
     "execution_count": 11,
     "metadata": {},
     "output_type": "execute_result"
    }
   ],
   "source": [
    "sorted([2, -7, 5, 4, -9, -1, 18, 10], key=abs)"
   ]
  },
  {
   "cell_type": "markdown",
   "id": "mediterranean-syndication",
   "metadata": {},
   "source": [
    "Cependant, on pourrait aussi définir la même fonction à l'aide d'une expression lambda, ce qui définirait une _valeur fonction_ anonyme, tout comme le premier paramètre est une _valeur liste_  anonyme:"
   ]
  },
  {
   "cell_type": "code",
   "execution_count": 12,
   "id": "ceramic-lodge",
   "metadata": {},
   "outputs": [
    {
     "data": {
      "text/plain": [
       "[-1, 2, 4, 5, -7, -9, 10, 18]"
      ]
     },
     "execution_count": 12,
     "metadata": {},
     "output_type": "execute_result"
    }
   ],
   "source": [
    "sorted([2, -7, 5, 4, -9, -1, 18, 10], key=lambda x: x if x>0 else -x)"
   ]
  },
  {
   "cell_type": "markdown",
   "id": "intellectual-bishop",
   "metadata": {},
   "source": [
    "Cette ligne est donc équivalente aux instructions suivantes:"
   ]
  },
  {
   "cell_type": "code",
   "execution_count": 15,
   "id": "wooden-thanks",
   "metadata": {},
   "outputs": [
    {
     "data": {
      "text/plain": [
       "[-1, 2, 4, 5, -7, -9, 10, 18]"
      ]
     },
     "execution_count": 15,
     "metadata": {},
     "output_type": "execute_result"
    }
   ],
   "source": [
    "liste_entree = [2, -7, 5, 4, -9, -1, 18, 10]\n",
    "f_tri = lambda x: x if x>0 else -x\n",
    "sorted(liste_entree, key=f_tri)"
   ]
  },
  {
   "cell_type": "markdown",
   "id": "tired-romania",
   "metadata": {},
   "source": [
    "Ainsi on peut passer des expressions lambda (ou des fonctions définies avec ```def``` à des fonctions d'ordre supérieur comme ```sorted()```.\n",
    "\n",
    "On peut aussi écrire nos propres fonctions d'ordre supérieur. Sur le modèle de ```sorted```, on peut écrire une fonction ```appliquer``` qui prend en entrée une fonction ```f``` et une valeur ```x```, et qui calcule ```f(x)```:"
   ]
  },
  {
   "cell_type": "code",
   "execution_count": 16,
   "id": "compressed-cache",
   "metadata": {},
   "outputs": [],
   "source": [
    "def appliquer(f, x):\n",
    "    return f(x)"
   ]
  },
  {
   "cell_type": "markdown",
   "id": "concerned-colony",
   "metadata": {},
   "source": [
    "On peut passer des fonctions numériques quelconques en paramètre de la fonction ```appliquer```:"
   ]
  },
  {
   "cell_type": "code",
   "execution_count": 17,
   "id": "periodic-apollo",
   "metadata": {},
   "outputs": [
    {
     "data": {
      "text/plain": [
       "27"
      ]
     },
     "execution_count": 17,
     "metadata": {},
     "output_type": "execute_result"
    }
   ],
   "source": [
    "def cube(z):\n",
    "    return z*z*z\n",
    "\n",
    "appliquer(cube,3)"
   ]
  },
  {
   "cell_type": "markdown",
   "id": "banned-representation",
   "metadata": {},
   "source": [
    "On peut également passer une expression lambda directement à la fonction ```appliquer```:"
   ]
  },
  {
   "cell_type": "code",
   "execution_count": 18,
   "id": "objective-affiliation",
   "metadata": {},
   "outputs": [
    {
     "data": {
      "text/plain": [
       "27"
      ]
     },
     "execution_count": 18,
     "metadata": {},
     "output_type": "execute_result"
    }
   ],
   "source": [
    "appliquer(lambda x: x*x*x, 3)"
   ]
  },
  {
   "cell_type": "markdown",
   "id": "innocent-borough",
   "metadata": {},
   "source": [
    "#### Exercice 6\n",
    "\n",
    "Écrire une fonction ```pointFixe``` qui prend en entrée une fonction ```f``` et une valeur ```x```, et retourne ```True``` si ```x``` est un point fixe de ```f```, c'est à dire que ```x``` est égal à ```f(x)```."
   ]
  },
  {
   "cell_type": "code",
   "execution_count": null,
   "id": "unexpected-vacation",
   "metadata": {},
   "outputs": [],
   "source": []
  },
  {
   "cell_type": "markdown",
   "id": "voluntary-prince",
   "metadata": {},
   "source": [
    "### Fonctions qui retournent des fonctions\n",
    "\n",
    "On a vu jusqu'à maintenant des fonctions qui prennent d'autres fonctions en entrée. Le concept de fonction de première classe permet également d'écrire des fonctions qui _retournent d'autres fonctions_.\n",
    "\n",
    "Supposons par exemple qu'on veuille une fonction qui multiplie un paramètre par 2, par 3, ou par un entier quelconque.\n",
    "\n",
    "On peut définit une fonction qui mutliplie son paramètre par 2 de la façon suivante:"
   ]
  },
  {
   "cell_type": "code",
   "execution_count": 19,
   "id": "received-speaker",
   "metadata": {},
   "outputs": [],
   "source": [
    "def multi2(x):\n",
    "    return x * 2"
   ]
  },
  {
   "cell_type": "markdown",
   "id": "alone-sacrifice",
   "metadata": {},
   "source": [
    "On veut généraliser cette définition pour un entier quelconque. Plus précisément, on veut _créer une fonction_ ```multi_n``` qui multiplie son paramètre par un entier ```n``` qui n'est pas connu au moment d'écrire le programme.\n",
    "\n",
    "On peut écrire une fonction qui prend en entrée la valeur ```n```, et retourne la fonction demandée:"
   ]
  },
  {
   "cell_type": "code",
   "execution_count": 21,
   "id": "sustainable-vacation",
   "metadata": {},
   "outputs": [],
   "source": [
    "def cree_multi_n(n):\n",
    "    def multi_n(x):\n",
    "        return x * n\n",
    "    return multi_n"
   ]
  },
  {
   "cell_type": "markdown",
   "id": "wooden-parade",
   "metadata": {},
   "source": [
    "Ici la fonction ```multi_n``` est définie à l'intérieur de la fonction ```cree_multi_n```, et ```multi_n``` est la \"valeur\" (de type _fonction_) retournée par la fonction ```cree_multi_n```.\n",
    "\n",
    "On peut maintenant utiliser cette fonction ```cree_multi_n``` pour générer des fonctions qui multiplient par 2, 3, ou un entier quelconque:"
   ]
  },
  {
   "cell_type": "code",
   "execution_count": 22,
   "id": "oriented-adoption",
   "metadata": {},
   "outputs": [],
   "source": [
    "f10 = cree_multi_n(10)"
   ]
  },
  {
   "cell_type": "code",
   "execution_count": 23,
   "id": "talented-holly",
   "metadata": {},
   "outputs": [
    {
     "data": {
      "text/plain": [
       "50"
      ]
     },
     "execution_count": 23,
     "metadata": {},
     "output_type": "execute_result"
    }
   ],
   "source": [
    "f10(5)"
   ]
  },
  {
   "cell_type": "code",
   "execution_count": 24,
   "id": "complex-collective",
   "metadata": {},
   "outputs": [],
   "source": [
    "triple = cree_multi_n(3)"
   ]
  },
  {
   "cell_type": "code",
   "execution_count": 25,
   "id": "fixed-anxiety",
   "metadata": {},
   "outputs": [
    {
     "data": {
      "text/plain": [
       "15"
      ]
     },
     "execution_count": 25,
     "metadata": {},
     "output_type": "execute_result"
    }
   ],
   "source": [
    "triple(5)"
   ]
  },
  {
   "cell_type": "markdown",
   "id": "regular-science",
   "metadata": {},
   "source": [
    "Étant donné que ```cree_multi_n``` retourne une fonction, on peut écrire sa valeur de retour directement comme _valeur_ fonction, en utilisant une expression lambda: "
   ]
  },
  {
   "cell_type": "code",
   "execution_count": null,
   "id": "democratic-confirmation",
   "metadata": {},
   "outputs": [],
   "source": [
    "def cree_multi_n(n):\n",
    "    return lambda x: x * n"
   ]
  },
  {
   "cell_type": "markdown",
   "id": "executive-ancient",
   "metadata": {},
   "source": [
    "Et on peut même aller plus loin et écrire la fonction ```cree_multi_n``` elle-même avec une expression lambda, puisque la valeur qu'elle retourne peut s'écrire en une ligne:"
   ]
  },
  {
   "cell_type": "code",
   "execution_count": 26,
   "id": "funny-syndication",
   "metadata": {},
   "outputs": [],
   "source": [
    "cree_multi_n = lambda n: lambda x: x*n"
   ]
  },
  {
   "cell_type": "markdown",
   "id": "subsequent-translation",
   "metadata": {},
   "source": [
    "Si on analyse l'expression, on a: ```lambda n:``` suivi de la valeur que retourne la fonction, qui est une autre expression lambda: ```lambda x: x *n```. La fonction prend donc en entrée ```n``` et retourne la fonction que représente l'expression ```lambda x: x*n```.\n",
    "\n",
    "Cette fonction marche exactement comme celle qu'on a défini plus haut:"
   ]
  },
  {
   "cell_type": "code",
   "execution_count": 27,
   "id": "vietnamese-intention",
   "metadata": {},
   "outputs": [],
   "source": [
    "f10 = cree_multi_n(10)"
   ]
  },
  {
   "cell_type": "code",
   "execution_count": 28,
   "id": "bridal-desperate",
   "metadata": {},
   "outputs": [
    {
     "data": {
      "text/plain": [
       "40"
      ]
     },
     "execution_count": 28,
     "metadata": {},
     "output_type": "execute_result"
    }
   ],
   "source": [
    "f10(4)"
   ]
  },
  {
   "cell_type": "markdown",
   "id": "accepted-stand",
   "metadata": {},
   "source": [
    "#### Exercice 7\n",
    "\n",
    "Écrire une fonction qui prend en entrée un nombre ```n```, et retourne une fonction \"plus grand que n\": cette fonction prend en paramètre un nombre ```z``` et retourne ```True``` si ```z``` est plus grand que ```n```, sinon ```False```.\n",
    "\n",
    "Écrire d'abord la fonction sous la forme d'une fonction définie avec ```def```, avec une autre fonction définie avec ```def``` à l'intérieur, puis sous la forme d'une expression lambda avec une autre expression lambda imbriquée."
   ]
  },
  {
   "cell_type": "markdown",
   "id": "royal-enlargement",
   "metadata": {},
   "source": [
    "### Fonctions qui prennent des fonctions en entrée et retournent des fonctions"
   ]
  },
  {
   "cell_type": "markdown",
   "id": "banned-astronomy",
   "metadata": {},
   "source": [
    "Dans les deux sections précédentes, on a considéré la possibilité qu'une fonction prenne une autre fonction en entrée, et qu'une fonction puisse retourner une nouvelle fonction.\n",
    "\n",
    "Ces deux propriétés peuvent aussi être combinées: une fonction peut prendre en entrée des fonctions _et_ retourner une autre fonction.\n",
    "\n",
    "Considérons par exemple une fonction qui prend en entrée une fonction ```f```, et retourne une nouvelle fonction ```g``` qui serait la composition de ```f``` avec elle-même, c'est à dire que pour tout paramètre ```x```, on aurait ```g(x) = f(f(x))```.\n",
    "\n",
    "On peut définir cette fonction avec ```def``` comme suit:"
   ]
  },
  {
   "cell_type": "code",
   "execution_count": 29,
   "id": "public-bryan",
   "metadata": {},
   "outputs": [],
   "source": [
    "def compose(f):\n",
    "    def g(x):\n",
    "        return f(f(x))\n",
    "    return g"
   ]
  },
  {
   "cell_type": "markdown",
   "id": "existing-departure",
   "metadata": {},
   "source": [
    "On a écrit ```g``` en suivant exactement la description au-dessus: ```g``` prend une valeur ```x``` et retourne ```f(f(x))```. La définition de ```g``` dépend évidemment de la fonction ```f```: pour n'importe quelle fonction ```f``` on peut écrire une fonction \"composée avec elle-même\" correspondante. La fonction ```compose``` fait exactement cela: elle prend une fonction ```f``` et génère la fonction ```g``` correspondante.\n",
    "\n",
    "On peut tester cette fonction avec la fonction ```triple``` définie plus haut (qui multiplie son paramètre par 3):"
   ]
  },
  {
   "cell_type": "code",
   "execution_count": 33,
   "id": "fossil-harvest",
   "metadata": {},
   "outputs": [],
   "source": [
    "foisneuf = compose(triple)"
   ]
  },
  {
   "cell_type": "code",
   "execution_count": 34,
   "id": "tutorial-visiting",
   "metadata": {},
   "outputs": [
    {
     "data": {
      "text/plain": [
       "18"
      ]
     },
     "execution_count": 34,
     "metadata": {},
     "output_type": "execute_result"
    }
   ],
   "source": [
    "foisneuf(2)"
   ]
  },
  {
   "cell_type": "markdown",
   "id": "conditional-roberts",
   "metadata": {},
   "source": [
    "Écrivons maintenant la fonction ```g``` sous forme d'une expression lambda: comme ```g``` est la fonction qui à une valeur ```x``` associe ```f(f(x))```, on peut l'écrire ```lambda x: f(f(x))```.\n",
    "\n",
    "On peut donc modifier la fonction ```compose```; on obtient:"
   ]
  },
  {
   "cell_type": "code",
   "execution_count": 31,
   "id": "parental-perry",
   "metadata": {},
   "outputs": [],
   "source": [
    "def compose(f):\n",
    "    return lambda x: f(f(x))"
   ]
  },
  {
   "cell_type": "markdown",
   "id": "usual-force",
   "metadata": {},
   "source": [
    "Allons un peu plus loin encore: on veut écrire la fonction ```compose``` sous forme de lambda. Pour cela il suffit d'écrire une expression lambda où le paramètre est ```f``` et la valeur retournée est l'expression lambda ```lambda x: f(f(x))```:"
   ]
  },
  {
   "cell_type": "code",
   "execution_count": 32,
   "id": "honey-compound",
   "metadata": {},
   "outputs": [],
   "source": [
    "compose = lambda f: lambda x: f(f(x))"
   ]
  },
  {
   "cell_type": "markdown",
   "id": "ignored-wages",
   "metadata": {},
   "source": [
    "#### Exercice 8\n",
    "Écrire une fonction ```compose``` de deux paramètres: cette fonction prend deux fonctions ```f``` et ```g``` en entrée, et retourne la composition de ces deux fonctions, c'est à dire une fonction qui prend en entrée une valeur ```x``` et retourne ```f(g(x))```."
   ]
  },
  {
   "cell_type": "code",
   "execution_count": null,
   "id": "decreased-correlation",
   "metadata": {},
   "outputs": [],
   "source": []
  },
  {
   "cell_type": "markdown",
   "id": "apparent-basket",
   "metadata": {},
   "source": [
    "## Fonctions d'ordre supérieur: applications\n",
    "\n",
    "### Currification, fermetures, et fonctions partielles\n",
    "Le principe de la currification est de transformer une fonction de deux paramètres en une fonction d'un seul paramètre, qui retourne une nouvelle fonction d'un paramètre également: la première fonction traite le premier paramètre de la fonction originale, et la fonction retournée traite le second paramètre.\n",
    "\n",
    "Prenons par exemple la fonction ```produit``` ci-dessous, qui calcule la produit de ses paramètres:"
   ]
  },
  {
   "cell_type": "code",
   "execution_count": 39,
   "id": "improving-campaign",
   "metadata": {},
   "outputs": [],
   "source": [
    "def produit(x,y):\n",
    "    return x*y"
   ]
  },
  {
   "cell_type": "markdown",
   "id": "following-caribbean",
   "metadata": {},
   "source": [
    "\"currifier\" cette fonction consiste à écrire une fonction ```produit_currifiee``` qui prend en entrée un nombre ```x```, et retourne une nouvelle fonction d'un paramètre qui multiplie son paramètre par ```x```:"
   ]
  },
  {
   "cell_type": "code",
   "execution_count": 40,
   "id": "organic-scheduling",
   "metadata": {},
   "outputs": [],
   "source": [
    "def produit_currifiee(x):\n",
    "    def multiplie_par_x(y):\n",
    "        return produit(x,y)\n",
    "    return multiplie_par_x"
   ]
  },
  {
   "cell_type": "markdown",
   "id": "anonymous-activation",
   "metadata": {},
   "source": [
    "Remarquer que la fonction ```multiplie_par_x``` est ici écrite de manière à explicitement utiliser la fonction ```produit```: ceci montre bien qu'on peut appliquer cette technique avec n'importe quelle fonction de deux paramètres.\n",
    "\n",
    "On peut aussi écrire une version plus concise de cette fonction en remplaçant la fonction interne ```multiplie_par_x``` par une fonction anonyme (une expression lambda):"
   ]
  },
  {
   "cell_type": "code",
   "execution_count": 42,
   "id": "dietary-cassette",
   "metadata": {},
   "outputs": [],
   "source": [
    "def produit_currifiee(x):\n",
    "    return lambda y: produit(x,y)"
   ]
  },
  {
   "cell_type": "markdown",
   "id": "organized-comfort",
   "metadata": {},
   "source": [
    "On peut aussi aller plus loin et écrire l'ensemble de la fonction produit_currifiee sous forme d'une expression lambda:"
   ]
  },
  {
   "cell_type": "code",
   "execution_count": null,
   "id": "basic-latitude",
   "metadata": {},
   "outputs": [],
   "source": [
    "produit_currifiee = lambda x: lambda y: produit(x,y)"
   ]
  },
  {
   "cell_type": "code",
   "execution_count": 41,
   "id": "numerical-cookbook",
   "metadata": {},
   "outputs": [
    {
     "name": "stdout",
     "output_type": "stream",
     "text": [
      "20\n"
     ]
    }
   ],
   "source": [
    "doubler = produit_currifiee(2)\n",
    "z = doubler(10)\n",
    "print(z)"
   ]
  },
  {
   "cell_type": "markdown",
   "id": "moderate-military",
   "metadata": {},
   "source": [
    "De la même façon on pourrait créer des fonctions pour multiplier par 10, ou par 100, ou par n'importe quel autre nombre. \n",
    "\n",
    "\n",
    "On peut faire la même chose pour des fonctions qui ont initialement plus que deux paramètres."
   ]
  },
  {
   "cell_type": "markdown",
   "id": "collectible-richmond",
   "metadata": {},
   "source": [
    "#### Application partielle\n",
    "\n",
    "La technique qu'on vient de voir revient à fixer un des paramètres de la fonction, et on parle **d'application partielle** de la fonction: on l'applique pour l'instant à son premier paramètre, et on l'appliquera aux autres plus tard. C'est une technique suffisamment importante pour que Python (et d'autres langages) offre une fonction d'ordre supérieur pour le faire:"
   ]
  },
  {
   "cell_type": "code",
   "execution_count": 45,
   "id": "extended-vegetarian",
   "metadata": {},
   "outputs": [],
   "source": [
    "from functools import partial\n",
    "tripler= partial(produit, 3)"
   ]
  },
  {
   "cell_type": "code",
   "execution_count": 46,
   "id": "sitting-spotlight",
   "metadata": {},
   "outputs": [
    {
     "data": {
      "text/plain": [
       "15"
      ]
     },
     "execution_count": 46,
     "metadata": {},
     "output_type": "execute_result"
    }
   ],
   "source": [
    "tripler(5)"
   ]
  },
  {
   "cell_type": "markdown",
   "id": "czech-attention",
   "metadata": {},
   "source": [
    "Remarquer que ```partial``` s'applique à la fonction originale ```produit``` et non pas à la version currifiée."
   ]
  },
  {
   "cell_type": "markdown",
   "id": "pretty-contrary",
   "metadata": {},
   "source": [
    "#### Notion de fermeture\n",
    "Les fonctions que l'on crée de cette manière sont des _fermetures_. Une fermeture est un objet fonction \"packagé\" avec une ou plusieurs variables: dans la première définition de ```produit_currifiee```, on définit une nouvelle fonction ```multiplie_par_x``` avec une variable ```x``` qui est définie dans le contexte local; selon les règles habituelles de portée des variables, cette variable ```x``` ne devrait plus exister une fois qu'on quitte la fonction ```produit_currifiee```. Ici, on intègre la valeur de la variable à la définition de ```multiplie_par_x```, ce qui permet d'utiliser la valeur de ce ```x``` enn dehors du scope où elle a été définie."
   ]
  },
  {
   "cell_type": "markdown",
   "id": "stunning-journalist",
   "metadata": {},
   "source": [
    "### Continuations\n",
    "\n",
    "Habituellement, lorsqu'on écrit un programme qui fait appel à plusieurs fonctions différentes, on identifie une fonction \"principale\", à partir de laquelle on exécute les autres: chaque fonction retourne son résultat, et à chaque fois le fil d'exécution revient à cette fonction considérée principale. Cette conception permet de s'y retrouver dans le code, et d'éviter le  \"code spaghetti\" difficile à suivre. \n",
    "\n",
    "Le principe du \"continuation passing style\", qui comme son nom l'indique est un \"style\" de programmation, est au contraire d'enchainer les fonctions sans jamais revenir en arrière. \n",
    "\n",
    "La technique est principalement pertinente dans le contexte de systèmes distribués, où l'exécution d'une fonction peut prendre du temps à cause des communications réseau. C'est notamment le cas dans la programmation Web: une application implémentée dans un navigateur Web (le coté client) utilise habituellement un seul fil d'exécution: si on doit télécharger une ressource distante à l'aide d'une fonction \"bloquante\" du style ```image = get(url)``` on doit attendre que l'image soit entièrement chargée pour pouvoir passer à l'instruction suivante. \n",
    "\n",
    "À la place, on voudrait utiliser une fonction \"non-bloquante\" (ce qui veut dire qu'on lui alloue en fait un fil d'exécution séparé), qui doit donc nécessairement être \"void\" (sinon comment récupérer le résultat alors qu'on est déjà passé à la suite?). Cette fonction \"non-bloquante\" doit nécessairement spécifier l'ensemble des étapes à suivre dans ce nouveau processus d'exécution. On peut évidemment écrire une fonction void qui donne cette séquence, mais pour chaque processus il faut écrire la liste des instructions dans une nouvelle fonction. \n",
    "\n",
    "Il y a une meilleure solution, avec le continuation passing style.\n",
    "Supposons qu'on veuille télécharger une image et la placer dans un DIV de la page Web courante.\n",
    "Implémentation \"pour de faux\":"
   ]
  },
  {
   "cell_type": "code",
   "execution_count": 51,
   "id": "technological-willow",
   "metadata": {},
   "outputs": [],
   "source": [
    "def get(url):\n",
    "    print(\"je charge la ressource de l'url:\",url)\n",
    "    return \"chaton.jpg\"\n",
    "\n",
    "def get_cps(url, f):\n",
    "    r = get(url)\n",
    "    f(r)\n",
    "\n",
    "def mettre_dans_div(id, image):\n",
    "    print(\"je mets l'image [\", image, '] dans le div \"', id, '\"')      "
   ]
  },
  {
   "cell_type": "markdown",
   "id": "fatty-station",
   "metadata": {},
   "source": [
    "#### Version \"bloquante\" / synchrone:"
   ]
  },
  {
   "cell_type": "code",
   "execution_count": 52,
   "id": "higher-cross",
   "metadata": {},
   "outputs": [
    {
     "name": "stdout",
     "output_type": "stream",
     "text": [
      "je charge la ressource de l'url: http://chaton.info/\n",
      "je mets l'image [ chaton.jpg ] dans le div \" la boite à image \"\n"
     ]
    }
   ],
   "source": [
    "url = \"http://chaton.info/\"\n",
    "id = \"la boite à image\"\n",
    "image = get(url)\n",
    "mettre_dans_div(id, image)"
   ]
  },
  {
   "cell_type": "markdown",
   "id": "linear-cambridge",
   "metadata": {},
   "source": [
    "#### Version \"non-bloquante\" / asynchrone avec nouvelle fonction:\n"
   ]
  },
  {
   "cell_type": "code",
   "execution_count": 54,
   "id": "selective-broadcasting",
   "metadata": {},
   "outputs": [
    {
     "name": "stdout",
     "output_type": "stream",
     "text": [
      "je charge la ressource de l'url: http://chaton.info/\n",
      "je mets l'image [ chaton.jpg ] dans le div \" la boite à image \"\n"
     ]
    }
   ],
   "source": [
    "def charger_image_et_mettre_dans_div(url, id):\n",
    "   image = get(url)\n",
    "   mettre_dans_div(id, image)\n",
    "\n",
    "charger_image_et_mettre_dans_div(url, id)"
   ]
  },
  {
   "cell_type": "markdown",
   "id": "endangered-sympathy",
   "metadata": {},
   "source": [
    "Ici on a pu exécuter l'action au complet en appelant la fonction ```charger_image_et_mettre_dans_div```, qu'on peut donc lancer avec son propre fil d'exécution. Cependant, on a du définir cette fonction très spécifique pour ce qu'on fait.\n",
    "\n",
    "#### Version \"non-bloquante\" / asynchrone avec continuation:\n",
    "Il faut d'abord définir une version \"CPS\" de ```get```:"
   ]
  },
  {
   "cell_type": "code",
   "execution_count": 55,
   "id": "persistent-belly",
   "metadata": {},
   "outputs": [],
   "source": [
    "def get_cps(url, f_continuation):\n",
    "   ressource = get(url)\n",
    "   f_continuation(ressource)"
   ]
  },
  {
   "cell_type": "markdown",
   "id": "listed-edition",
   "metadata": {},
   "source": [
    "Et maintenant:"
   ]
  },
  {
   "cell_type": "code",
   "execution_count": 58,
   "id": "living-grenada",
   "metadata": {},
   "outputs": [
    {
     "name": "stdout",
     "output_type": "stream",
     "text": [
      "je charge la ressource de l'url: http://chaton.info/\n",
      "je mets l'image [ chaton.jpg ] dans le div \" la boite à image \"\n"
     ]
    }
   ],
   "source": [
    "get_cps(url, partial(mettre_dans_div,id))"
   ]
  },
  {
   "cell_type": "markdown",
   "id": "equivalent-switzerland",
   "metadata": {},
   "source": [
    "Ici, on peut directement appeler la version CPS de ```get```, qui n'est pas spécifique à notre situation mais réalise une fonctionnalité tout aussi générale que cette du ```get``` original. On lui passe une fonction qui spécifie quoi faire avec le résultat du ```get```: ici c'est la fonction ```mettre_dans_div```, qui est aussi générale, mais pour laquelle on a spécifié le premier paramètre avec le mécanisme ```partial``` vu au-dessus. \n",
    "\n",
    "La principale technique à apprendre ici est de transofmer une fonction pour respecter le style CPS.\n",
    "\n",
    "#### Transformer une fonction simple en CPS\n",
    "* Fonction originale:"
   ]
  },
  {
   "cell_type": "code",
   "execution_count": 59,
   "id": "neural-privilege",
   "metadata": {},
   "outputs": [],
   "source": [
    "def fonction_quelconque(x):\n",
    "    return 3* x + 1"
   ]
  },
  {
   "cell_type": "code",
   "execution_count": 61,
   "id": "recreational-experiment",
   "metadata": {},
   "outputs": [
    {
     "name": "stdout",
     "output_type": "stream",
     "text": [
      "16\n"
     ]
    }
   ],
   "source": [
    "z = fonction_quelconque(5)\n",
    "print(z)"
   ]
  },
  {
   "cell_type": "markdown",
   "id": "interracial-mounting",
   "metadata": {},
   "source": [
    "* Version CPS:"
   ]
  },
  {
   "cell_type": "code",
   "execution_count": 60,
   "id": "cooked-circular",
   "metadata": {},
   "outputs": [],
   "source": [
    "def fonction_quelconque_cps(x, f):\n",
    "    z = 3* x + 1\n",
    "    f(z)"
   ]
  },
  {
   "cell_type": "markdown",
   "id": "private-revelation",
   "metadata": {},
   "source": [
    "La version CPS ne retourne rien: elle appelle une autre fonction. On l'utilise donc un peu différemment:"
   ]
  },
  {
   "cell_type": "code",
   "execution_count": 63,
   "id": "aerial-raise",
   "metadata": {},
   "outputs": [
    {
     "name": "stdout",
     "output_type": "stream",
     "text": [
      "16\n"
     ]
    }
   ],
   "source": [
    "fonction_quelconque_cps(5, print)"
   ]
  },
  {
   "cell_type": "markdown",
   "id": "furnished-reverse",
   "metadata": {},
   "source": [
    "On pourrait se demander: pourquoi ne pas simplement écrire:"
   ]
  },
  {
   "cell_type": "code",
   "execution_count": 65,
   "id": "athletic-contractor",
   "metadata": {},
   "outputs": [
    {
     "name": "stdout",
     "output_type": "stream",
     "text": [
      "16\n"
     ]
    }
   ],
   "source": [
    "print(fonction_quelconque(5))"
   ]
  },
  {
   "cell_type": "markdown",
   "id": "another-zoning",
   "metadata": {},
   "source": [
    "C'est une question pertinente. Un premier élément de réponse (pas très convaincant) est que la formulation ```fonction_quelconque_cps(5, print)``` permet d'écrire les étapes du processus dans l'ordre: d'abord la fonction, ensuite ```print```.\n",
    "\n",
    "Un deuxième élément de réponse est que le modèle des continuations est plus flexible: \n",
    "* on peut appeler la fonction de continuation plusieurs fois. On peut par exemple réaliser l'équivalent du patron de conception \"listener pattern\" (exemple classique Java: ```new JButton().addActionListener(this);```): au lieu de passer un objet en paramètre, on passe directement la fonction de continuation qui doit être appelée, qui sera alors appelée à chaque fois qu'un événement se produit.\n",
    "* on peut avoir plusieurs fonctions de continuation possibles: typiquement dans un contexte Web, on va faire une requête de type ```get(url, f_succes, f_echec)```: selon le résultat de la requête Web (succès ou échec) on va appeler l'une ou l'autre des fonctions. \n",
    "\n",
    "Enfin, un troisième élément est que dans le style CPS, on appelle toujours la fonction de continuation en dernier: pour cette raison, il est possible d'optimiser la gestion de la pile de la même façon que pour la récursivité terminale (tail call optimisation).\n",
    "\n",
    "**Limitation principale:** la principale limitation du style CPS est que pour enchainer plus que deux fonctions, il y a un peu de gymnastique à faire avec des fonctions partielles. Dans un langage comme JavaScript où les continuations sont vraiment très utiles, il existe des fonctions pour réaliser ce \"chainage\"."
   ]
  },
  {
   "cell_type": "markdown",
   "id": "driving-matthew",
   "metadata": {},
   "source": [
    "#### Transformer une fonction récursive en CPS\n",
    "\n",
    "Les fonctions récursives peuvent elles aussi être transformées pour respecter le style CPS.\n",
    "\n",
    "Le principe est de transformer le cas de base et le cas récursif tous deux en continuations: dans le cas de base on peut écrire la continuation comme pour une fonction ordinaire, et dans le cas récursif, la fonction récursive est sa propre continuation.\n",
    "\n",
    "La technique pour réaliser une telle fonction consiste à écrire la fonction de manière récursive terminale (parce que la continuation doit être la dernière instruction à exécuter), et à la modifier légèrement.\n",
    "\n",
    "On peut illustrer la technique en utilisant la fonction récursive ```puissance``` vue dans le notebook sur la récursivité. Partons de la forme récursive terminale:"
   ]
  },
  {
   "cell_type": "code",
   "execution_count": 72,
   "id": "cellular-notion",
   "metadata": {},
   "outputs": [],
   "source": [
    "def puissance(x, n):\n",
    "    return puissanceRT(x, n, 1)\n",
    "\n",
    "def puissanceRT(x, n, p):\n",
    "    if (n==0):\n",
    "        return p\n",
    "    return puissanceRT(x, n-1, p*x)"
   ]
  },
  {
   "cell_type": "markdown",
   "id": "indonesian-surge",
   "metadata": {},
   "source": [
    "En partant de la récursivité terminale, on a déjà une forme de fonction où l'appel récursif arrve en dernier (ce qui est nécessaire pour le style CPS). La transformation est donc très simple.\n",
    " \n",
    "La version CPS requiert d'ajouter un paramètre supplémentaire pour la fonction de continuation, et de remplacer le return par l'appel de la fonction de continuation."
   ]
  },
  {
   "cell_type": "code",
   "execution_count": 73,
   "id": "alive-storage",
   "metadata": {},
   "outputs": [],
   "source": [
    "def puissanceCPS(x, n, f):\n",
    "    puissanceRT(x, n, 1, f)\n",
    "\n",
    "def puissanceRT(x, n, p, f):\n",
    "    if (n==0):\n",
    "        f(p)\n",
    "    else:\n",
    "        puissanceRT(x, n-1, p*x, f) #ici puissanceRT est utilisée comme sa propre continuation"
   ]
  },
  {
   "cell_type": "code",
   "execution_count": 74,
   "id": "awful-blues",
   "metadata": {},
   "outputs": [
    {
     "name": "stdout",
     "output_type": "stream",
     "text": [
      "1024\n"
     ]
    }
   ],
   "source": [
    "puissanceCPS(2, 10, print)"
   ]
  },
  {
   "cell_type": "markdown",
   "id": "wicked-destiny",
   "metadata": {},
   "source": [
    "#### Exercice 9\n",
    "Écrire une version CPS de la fonction récursive ```sommeJusqua``` qui fait la somme des entiers jusqu'à un paramètre ```n``` (voir notebook récursivité)."
   ]
  },
  {
   "cell_type": "code",
   "execution_count": null,
   "id": "dimensional-overview",
   "metadata": {},
   "outputs": [],
   "source": []
  },
  {
   "cell_type": "markdown",
   "id": "recent-humanitarian",
   "metadata": {},
   "source": [
    "### Décorateurs\n",
    "\n",
    "Le principe d'un décorateur est de modifier une fonction existante de manière systématique. Par _systématique_ on entend qu'on peut appliquer la même transformation à d'autres fonctions, et que la transformation va être implémentée dans une méthode.\n",
    "\n",
    "On utilise habituellement ce type de transformation pour implémenter un aspect \"orthogonal\" à la fonctionnalité principale de la fonction. Ce qu'on veut dire par là c'est le la fonction calcule une valeur en utilisant un algorithme, et le décorateur va réaliser un aspect annexe: ajouter des instructions pour tracer l'exécution dans un fichier, mesurer la durée d'exécution, vérifier des permissions, etc. Ces fonctionnalités n'ont rien à voir avec le calcul de la valeur originale de la fonction.\n",
    "\n",
    "Dans d'autres cas, on veut filtrer ou transformer de manière systématique les entrées ou la sortie de la fonction à décorer. Par exemple, on peut transformer systématiquement les sorties en chaines de caractères, ou tronquer les nombres avec deux chiffres après la virgule décimale.\n",
    "\n",
    "Prenons ce dernier exemple: on va écrire un décorateur qui décore seulement des fonctions numériques, et qui tronque leurs valeurs avec deux chiffres après la virgule. Supposons aussi pour l'instant que la fonction à décorer ne prend qu'un seul paramètre:"
   ]
  },
  {
   "cell_type": "code",
   "execution_count": 75,
   "id": "virgin-guess",
   "metadata": {},
   "outputs": [],
   "source": [
    "def f_originale(x):\n",
    "    return x*x/5"
   ]
  },
  {
   "cell_type": "markdown",
   "id": "eight-alpha",
   "metadata": {},
   "source": [
    "Pour écrire le décorateur, on peut d'abord écrire un squelette qui montre que le décorateur prend une fonction en paramètre et retourne une fonction, qu'on va définir à l'intérieur avec ```def```:\n",
    "\n",
    "```\n",
    "def decorateur(f_orig):\n",
    "   def fn_modif(x):  #dans notre exemple la fonction modifiée prend un seul paramètre, commme l'originale.\n",
    "      return ...        # la fonction modifiée va retourner une valeur\n",
    "   return f_modif    #on va retourner la fonction modifiée\n",
    "```\n",
    "\n",
    "On s'intéresse maintenant aux détails de la fonction modifiée: en général, elle va appeler la fonction originale, et faire d'autres choses avant (avec les entrées) ou après (avec le résultat). La fonction ```fn_modif``` va donc contenir un appel de la forme ```z = f_orig(x)``` (en supposant que ```x``` est bien le paramètre de la fonction ```fn_modif```).\n",
    "\n",
    "\n",
    "Dans le cas qui nous intéresse, la fonction va appeler la fonction, et faire quelque chose avec la valeur retournée: ce quelque chose consiste à tronquer la valeur à deux chiffres après la virgule.\n",
    "\n",
    "Voici donc notre décorateur, qu'on a maintenant appelé ```deuxchiffres```:"
   ]
  },
  {
   "cell_type": "code",
   "execution_count": 76,
   "id": "anticipated-parent",
   "metadata": {},
   "outputs": [],
   "source": [
    "def deuxchiffres(f_orig):\n",
    "    def f_modif(x):\n",
    "        y = f_orig(x)\n",
    "        y2 = int(y*100) / 100  # tronquer y à 2 chiffres\n",
    "        return y2              # retourner la valeur y2\n",
    "    return f_modif"
   ]
  },
  {
   "cell_type": "markdown",
   "id": "gross-minister",
   "metadata": {},
   "source": [
    "Testons avec la fonction ```f_originale``` ci-dessus:"
   ]
  },
  {
   "cell_type": "code",
   "execution_count": 79,
   "id": "reliable-forth",
   "metadata": {},
   "outputs": [
    {
     "name": "stdout",
     "output_type": "stream",
     "text": [
      "1.9719200000000001\n",
      "1.97\n"
     ]
    }
   ],
   "source": [
    "g = deuxchiffres(f_originale)\n",
    "print(f_originale(3.14))\n",
    "print(g(3.14))"
   ]
  },
  {
   "cell_type": "markdown",
   "id": "disciplinary-rough",
   "metadata": {},
   "source": [
    "#### L'annotation @decorateur\n",
    "En Python, les décorateurs peuvent être utilisés exactement comme ci-dessus, mais aussi en insérant une annotation au-dessus de la définition d'une fonction."
   ]
  },
  {
   "cell_type": "code",
   "execution_count": 80,
   "id": "electronic-bennett",
   "metadata": {},
   "outputs": [],
   "source": [
    "@deuxchiffres\n",
    "def inv(x):\n",
    "    return 1/x"
   ]
  },
  {
   "cell_type": "markdown",
   "id": "better-lindsay",
   "metadata": {},
   "source": [
    "Avec cette annotation, c'est comme si on avait écrit: ```inv=deuxchiffres(inv)```.\n",
    "\n",
    "Testons:"
   ]
  },
  {
   "cell_type": "code",
   "execution_count": 81,
   "id": "signed-three",
   "metadata": {},
   "outputs": [
    {
     "data": {
      "text/plain": [
       "0.02"
      ]
     },
     "execution_count": 81,
     "metadata": {},
     "output_type": "execute_result"
    }
   ],
   "source": [
    "inv(42)"
   ]
  },
  {
   "cell_type": "code",
   "execution_count": 82,
   "id": "communist-shopper",
   "metadata": {},
   "outputs": [
    {
     "data": {
      "text/plain": [
       "0.33"
      ]
     },
     "execution_count": 82,
     "metadata": {},
     "output_type": "execute_result"
    }
   ],
   "source": [
    "inv(3)"
   ]
  },
  {
   "cell_type": "markdown",
   "id": "engaging-edition",
   "metadata": {},
   "source": [
    "Les résultats sont systématiquement tronqués à deux chiffres.\n",
    "\n",
    "### Décorer des fonctions de longueur quelconque\n",
    "\n",
    "Dans l'exemple au-dessus, on a fait l'hypothèse que la fonction à décorer prenait toujours un seul paramètre. Pour pouvoir définir cette fonction meme sans connaitre le nombre attendu du paramètres, on peut utiliser la notation ```*a```, qui a un usage assez particulier.\n",
    "\n",
    "L'usage de loin le plus fréquent est de pouvoir placer une liste de paramètres dans une seule variable. Prenons d'abord des fonctions quelconques ```g``` et ```h```:"
   ]
  },
  {
   "cell_type": "code",
   "execution_count": 102,
   "id": "printable-chinese",
   "metadata": {},
   "outputs": [],
   "source": [
    "import math\n",
    "def g(x, y , z): \n",
    "    return math.sqrt(x*x+y*y+z*z)"
   ]
  },
  {
   "cell_type": "code",
   "execution_count": 103,
   "id": "polar-parent",
   "metadata": {},
   "outputs": [],
   "source": [
    "def f(*args): #f peut prendre une ou plusieurs variables\n",
    "   return g(*args)    #on appelle g avec la même liste d'arguments"
   ]
  },
  {
   "cell_type": "code",
   "execution_count": 104,
   "id": "accomplished-reasoning",
   "metadata": {},
   "outputs": [
    {
     "data": {
      "text/plain": [
       "6.708203932499369"
      ]
     },
     "execution_count": 104,
     "metadata": {},
     "output_type": "execute_result"
    }
   ],
   "source": [
    "f(2, 4, 5)"
   ]
  },
  {
   "cell_type": "markdown",
   "id": "significant-series",
   "metadata": {},
   "source": [
    "Ici on constate qu'on a pu appeler les fonctions ```f``` et ```g``` en leur passant trois paramètres, alors qu'elles sont définies avec un seul paramètre ```*args```.\n",
    "\n",
    "Cette syntaxe est utile lorsqu'on veut décorer des fonctions d'un nombre variable de paramètres. On peut re-écrire le décorateur ```deuxchiffres```: il pourra décorer des fonctions de 1, 2, 3, ou même aucun paramètre. Pour en avoir deux différents, on va cette fois tronquer le résultat à trois chiffres."
   ]
  },
  {
   "cell_type": "code",
   "execution_count": 111,
   "id": "impossible-president",
   "metadata": {},
   "outputs": [],
   "source": [
    "def troischiffres(f_orig):\n",
    "    def f_modif(*x):    #on rajoute ici l'astérisque\n",
    "        y = f_orig(*x)  # Ici aussi\n",
    "        y2 = int(y*1000) / 1000  # tronquer y à 32 chiffres\n",
    "        return y2              # retourner la valeur y2\n",
    "    return f_modif"
   ]
  },
  {
   "cell_type": "code",
   "execution_count": 112,
   "id": "controlled-comparison",
   "metadata": {},
   "outputs": [
    {
     "data": {
      "text/plain": [
       "3.141"
      ]
     },
     "execution_count": 112,
     "metadata": {},
     "output_type": "execute_result"
    }
   ],
   "source": [
    "@troischiffres\n",
    "def nombre_pi():\n",
    "    return math.pi\n",
    "\n",
    "nombre_pi()"
   ]
  },
  {
   "cell_type": "code",
   "execution_count": 113,
   "id": "surprised-blanket",
   "metadata": {},
   "outputs": [
    {
     "data": {
      "text/plain": [
       "-2.768"
      ]
     },
     "execution_count": 113,
     "metadata": {},
     "output_type": "execute_result"
    }
   ],
   "source": [
    "@troischiffres\n",
    "def somme(a, b):\n",
    "    return a+b\n",
    "\n",
    "somme(1.0000001, -3.76845)"
   ]
  },
  {
   "cell_type": "markdown",
   "id": "hazardous-kingston",
   "metadata": {},
   "source": [
    "On a donc démontré ce décorateur sur des fonctions de zéro et de deux paramètres.\n",
    "\n",
    "#### Exercice 10\n",
    "Écrire un décorateur ```@plusfort``` pour des fonctions de zéro, un ou plusieurs paramètres renvoyant un string: la fonction décorée doit retourner le string en majuscules et ajoute un point d'exclamation."
   ]
  },
  {
   "cell_type": "code",
   "execution_count": null,
   "id": "illegal-singing",
   "metadata": {},
   "outputs": [],
   "source": []
  },
  {
   "cell_type": "markdown",
   "id": "stock-roommate",
   "metadata": {},
   "source": [
    "#### Exercice 11\n",
    "Écrire un décorateur de deux paramètres ```delta(eps, f)``` (qu'on n'utilisera pas comme annotation) qui transforme des fonctions d'un seul paramètre (numérique) pour que la fonction décorée retourne 0 si le résultat de la fonction originale est suffisamment proche de zéro (inférieur à ```eps``` en valeur absolue). Si le résultat n'est pas aussi petit, on retourne le résultat original."
   ]
  },
  {
   "cell_type": "code",
   "execution_count": null,
   "id": "retained-emergency",
   "metadata": {},
   "outputs": [],
   "source": []
  },
  {
   "cell_type": "markdown",
   "id": "labeled-vessel",
   "metadata": {},
   "source": [
    "Remarque: comme indiqué dans l'énoncé de l'exercice 11, on n'utilisera pas un décorateur à deux paramètres sous forme d'annotation ```@decorateur```: pour pouvoir faire cela, il faudrait \"currifier\" la fonction, pour que l'annotation utilise seulement le premier paramètre et soit correcte. La définition d'un décorateur avec un paramètre supplémentaire (en plus de la fonction à décorer) serait:"
   ]
  },
  {
   "cell_type": "code",
   "execution_count": 1,
   "id": "vanilla-genius",
   "metadata": {},
   "outputs": [],
   "source": [
    "def deco(parametre):    #cette fonction génère le décorateur simple à partir du paramètre supplémentaire\n",
    "    def vrai_decorateur(f): #ceci est le décorateur\n",
    "        def f_modif(*args):  #ceci est la fonction décorée\n",
    "            print(parametre)  # on va juste afficher le parametre avant d'exécuter la fonction\n",
    "            y = f(*args)\n",
    "            print(\"bye!\")     # et \"bye\" après\n",
    "            return y      #la fonction décorée retourne la même valeur que la fonction originale\n",
    "        return f_modif\n",
    "    return vrai_decorateur"
   ]
  },
  {
   "cell_type": "code",
   "execution_count": 120,
   "id": "confident-indian",
   "metadata": {},
   "outputs": [],
   "source": [
    "@deco(\"ceci n'est pas une somme\")\n",
    "def somme(x, y):\n",
    "    return x+y"
   ]
  },
  {
   "cell_type": "code",
   "execution_count": 121,
   "id": "temporal-progress",
   "metadata": {},
   "outputs": [
    {
     "name": "stdout",
     "output_type": "stream",
     "text": [
      "ceci n'est pas une somme\n",
      "bye!\n",
      "76\n"
     ]
    }
   ],
   "source": [
    "print(somme(42, 34))"
   ]
  },
  {
   "cell_type": "markdown",
   "id": "sunrise-satin",
   "metadata": {},
   "source": [
    "#### Exercice 12\n",
    "Re-écrire le décorateur de l'exercice 11 pour qu'il puisse être utilisé comme annotation: ```@delta(0.01)```"
   ]
  },
  {
   "cell_type": "code",
   "execution_count": null,
   "id": "working-comparative",
   "metadata": {},
   "outputs": [],
   "source": []
  }
 ],
 "metadata": {
  "kernelspec": {
   "display_name": "Python 3",
   "language": "python",
   "name": "python3"
  },
  "language_info": {
   "codemirror_mode": {
    "name": "ipython",
    "version": 3
   },
   "file_extension": ".py",
   "mimetype": "text/x-python",
   "name": "python",
   "nbconvert_exporter": "python",
   "pygments_lexer": "ipython3",
   "version": "3.9.1"
  }
 },
 "nbformat": 4,
 "nbformat_minor": 5
}
